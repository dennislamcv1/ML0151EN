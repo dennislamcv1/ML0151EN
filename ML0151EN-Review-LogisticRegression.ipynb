{
 "cells": [
  {
   "cell_type": "markdown",
   "metadata": {},
   "source": [
    "<a href=\"https://www.bigdatauniversity.com\"><img src = \"https://ibm.box.com/shared/static/cw2c7r3o20w9zn8gkecaeyjhgw3xdgbj.png\" width = 400, align = \"center\"></a>\n",
    "\n",
    "<h1 align=center><font size = 5> Logistic Regression in R</font></h1>"
   ]
  },
  {
   "cell_type": "markdown",
   "metadata": {},
   "source": [
    "<a id=\"ref1\"></a>\n",
    "## What is different between Linear and Logistic Regression?\n",
    "\n",
    "While Linear Regression is suited for estimating continuous values (e.g. estimating house price), it isn’t the best tool for predicting the class of an observed data point. In order to estimate a classification, we need some sort of guidance on what would be the **most probable class** for that data point. For this, we use **Logistic Regression**.\n",
    "\n",
    "<div class=\"alert alert-success alertsuccess\" style=\"margin-top: 20px\">\n",
    "<font size = 3><strong>Recall linear regression:</strong></font>\n",
    "<br>\n",
    "<br>\n",
    "Linear regression finds a function that relates a continuous dependent variable, _y_, to some predictors (independent variables _x1_, _x2_, etc.). Simple linear regression assumes a function of the form:\n",
    "<br><br>\n",
    "$$\n",
    "y = w0 + w1 * x1 + w2 * x2 +...\n",
    "$$\n",
    "<br>\n",
    "and finds the values of _w0_, _w1_, _w2_, etc. The term _w0_ is the \"intercept\" or \"constant term\" (it's shown as _b_ in the formula below):\n",
    "<br><br>\n",
    "$$\n",
    "Y = WX + b\n",
    "$$\n",
    "<p></p>\n",
    "\n",
    "</div>\n",
    "\n",
    "Logistic Regression is a variation of Linear Regression, useful when the observed dependent variable, _y_, is categorical. It produces a formula that predicts the probability of the class label as a function of the independent variables.\n",
    "\n",
    "Despite the name logistic _regression_, it is actually a __probabilistic classification__ model. Logistic regression fits a special s-shaped curve by taking the linear regression and transforming the numeric estimate into a probability with the following function:\n",
    "\n",
    "$$\n",
    "ProbabilityOfaClass = \\theta(y) = \\frac{e^y}{1+e^y} = exp(y) / (1+exp(y)) = p \n",
    "$$\n",
    "\n",
    "which produces p-values between 0 (as y approaches minus infinity) and 1 (as y approaches plus infinity). This now becomes a special kind of non-linear regression.\n",
    "\n",
    "In this equation, _y_ is the regression result (the sum of the variables weighted by the coefficients), `exp` is the exponential function and $\\theta(y)$ is the [logistic function](http://en.wikipedia.org/wiki/Logistic_function), also called logistic curve. It is a common \"S\" shape (sigmoid curve), and was first developed for modelling population growth.\n",
    "\n",
    "You might also have seen this function before, in another configuration:\n",
    "\n",
    "$$\n",
    "ProbabilityOfaClass = \\theta(y) = \\frac{1}{1+e^{-x}}\n",
    "$$\n",
    "\n",
    "So, briefly, Logistic Regression passes the input through the logistic/sigmoid but then treats the result as a probability:\n",
    "\n",
    "<img\n",
    "src=\"https://ibm.box.com/shared/static/kgv9alcghmjcv97op4d6onkyxevk23b1.png\", width = \"400\", align = \"center\">\n",
    "\n"
   ]
  },
  {
   "cell_type": "markdown",
   "metadata": {},
   "source": [
    "Lets first install requiered libraries"
   ]
  },
  {
   "cell_type": "code",
   "execution_count": 2,
   "metadata": {},
   "outputs": [
    {
     "name": "stderr",
     "output_type": "stream",
     "text": [
      "Warning message:\n",
      "\"unable to access index for repository http://www.stats.ox.ac.uk/pub/RWin/bin/windows/contrib/3.5:\n",
      "  cannot open URL 'http://www.stats.ox.ac.uk/pub/RWin/bin/windows/contrib/3.5/PACKAGES'\""
     ]
    },
    {
     "name": "stdout",
     "output_type": "stream",
     "text": [
      "package 'dummies' successfully unpacked and MD5 sums checked\n",
      "\n",
      "The downloaded binary packages are in\n",
      "\tC:\\Users\\Dennis\\AppData\\Local\\Temp\\RtmpM1Oc7Z\\downloaded_packages\n"
     ]
    },
    {
     "name": "stderr",
     "output_type": "stream",
     "text": [
      "Warning message:\n",
      "\"unable to access index for repository http://www.stats.ox.ac.uk/pub/RWin/bin/windows/contrib/3.5:\n",
      "  cannot open URL 'http://www.stats.ox.ac.uk/pub/RWin/bin/windows/contrib/3.5/PACKAGES'\""
     ]
    },
    {
     "name": "stdout",
     "output_type": "stream",
     "text": [
      "package 'class' successfully unpacked and MD5 sums checked\n"
     ]
    },
    {
     "name": "stderr",
     "output_type": "stream",
     "text": [
      "Warning message:\n",
      "\"cannot remove prior installation of package 'class'\""
     ]
    },
    {
     "name": "stdout",
     "output_type": "stream",
     "text": [
      "\n",
      "The downloaded binary packages are in\n",
      "\tC:\\Users\\Dennis\\AppData\\Local\\Temp\\RtmpM1Oc7Z\\downloaded_packages\n"
     ]
    },
    {
     "name": "stderr",
     "output_type": "stream",
     "text": [
      "Warning message:\n",
      "\"unable to access index for repository http://www.stats.ox.ac.uk/pub/RWin/bin/windows/contrib/3.5:\n",
      "  cannot open URL 'http://www.stats.ox.ac.uk/pub/RWin/bin/windows/contrib/3.5/PACKAGES'\""
     ]
    },
    {
     "name": "stdout",
     "output_type": "stream",
     "text": [
      "package 'VGAM' successfully unpacked and MD5 sums checked\n",
      "\n",
      "The downloaded binary packages are in\n",
      "\tC:\\Users\\Dennis\\AppData\\Local\\Temp\\RtmpM1Oc7Z\\downloaded_packages\n",
      "[1] \"Done\"\n"
     ]
    },
    {
     "name": "stderr",
     "output_type": "stream",
     "text": [
      "Warning message:\n",
      "\"unable to access index for repository http://www.stats.ox.ac.uk/pub/RWin/bin/windows/contrib/3.5:\n",
      "  cannot open URL 'http://www.stats.ox.ac.uk/pub/RWin/bin/windows/contrib/3.5/PACKAGES'\""
     ]
    },
    {
     "name": "stdout",
     "output_type": "stream",
     "text": [
      "package 'gridExtra' successfully unpacked and MD5 sums checked\n",
      "\n",
      "The downloaded binary packages are in\n",
      "\tC:\\Users\\Dennis\\AppData\\Local\\Temp\\RtmpM1Oc7Z\\downloaded_packages\n"
     ]
    }
   ],
   "source": [
    "install.packages(\"dummies\")\n",
    "install.packages('class')\n",
    "install.packages('VGAM')\n",
    "print(\"Done\") #Takes about 30 seconds\n",
    "install.packages('gridExtra')\n"
   ]
  },
  {
   "cell_type": "markdown",
   "metadata": {
    "collapsed": true
   },
   "source": [
    "### Libraries  for Plotting "
   ]
  },
  {
   "cell_type": "code",
   "execution_count": 3,
   "metadata": {},
   "outputs": [
    {
     "name": "stdout",
     "output_type": "stream",
     "text": [
      "[1] \"Done\"\n"
     ]
    }
   ],
   "source": [
    "library(ggplot2)\n",
    "library(gridExtra)\n",
    "options(jupyter.plot_mimetypes = 'image/png')\n",
    "\n",
    "print(\"Done\")"
   ]
  },
  {
   "cell_type": "markdown",
   "metadata": {},
   "source": [
    "### About dataset"
   ]
  },
  {
   "cell_type": "markdown",
   "metadata": {},
   "source": [
    "### The following is a list of what each column of the data frame represents  \n"
   ]
  },
  {
   "cell_type": "markdown",
   "metadata": {},
   "source": [
    "\n",
    "Loan_status: Whether a loan is paid off on in collection\n",
    "\n",
    "Principal: Basic principal loan amount at the \n",
    "\n",
    "Originationterms Can be weekly (7 days), biweekly, and monthly payoff schedule\n",
    "\n",
    "Effective_date: When the loan got originated and took effects\n",
    "\n",
    "Due_date: Since it’s one-time payoff schedule, each loan has one single due date\n",
    "\n",
    "\n",
    "age:age \n",
    "education: education \n",
    "gender:"
   ]
  },
  {
   "cell_type": "markdown",
   "metadata": {},
   "source": [
    "### Lets Download data"
   ]
  },
  {
   "cell_type": "code",
   "execution_count": 6,
   "metadata": {},
   "outputs": [
    {
     "ename": "ERROR",
     "evalue": "Error in parse(text = x, srcfile = src): <text>:3:40: unexpected ','\n2: #download.file(\"Meetup04052017Rnotebook.csv\",\n3:               destfile = \"LoanData.csv\",\n                                          ^\n",
     "output_type": "error",
     "traceback": [
      "Error in parse(text = x, srcfile = src): <text>:3:40: unexpected ','\n2: #download.file(\"Meetup04052017Rnotebook.csv\",\n3:               destfile = \"LoanData.csv\",\n                                          ^\nTraceback:\n"
     ]
    }
   ],
   "source": [
    "#Click here and press Shift+Enter\n",
    "#download.file(\"Meetup04052017Rnotebook.csv\",\n",
    "              destfile = \"LoanData.csv\", quiet = TRUE)\n",
    "#options(scipen = 999) #disable scientific notation"
   ]
  },
  {
   "cell_type": "markdown",
   "metadata": {},
   "source": [
    "### Load Data From CSV File  "
   ]
  },
  {
   "cell_type": "code",
   "execution_count": 7,
   "metadata": {},
   "outputs": [
    {
     "data": {
      "text/html": [
       "<table>\n",
       "<thead><tr><th scope=col>X</th><th scope=col>Unnamed..0</th><th scope=col>loan_status</th><th scope=col>Principal</th><th scope=col>terms</th><th scope=col>effective_date</th><th scope=col>due_date</th><th scope=col>age</th><th scope=col>education</th><th scope=col>Gender</th><th scope=col>dayofweek</th></tr></thead>\n",
       "<tbody>\n",
       "\t<tr><td>0                   </td><td>0                   </td><td>PAIDOFF             </td><td>1000                </td><td>30                  </td><td>2016-09-08          </td><td>2016-10-07          </td><td>45                  </td><td>High School or Below</td><td>male                </td><td>3                   </td></tr>\n",
       "\t<tr><td>1                   </td><td>1                   </td><td>PAIDOFF             </td><td>1000                </td><td>30                  </td><td>2016-09-08          </td><td>2016-10-07          </td><td>50                  </td><td>Bechalor            </td><td>female              </td><td>3                   </td></tr>\n",
       "\t<tr><td>2                   </td><td>2                   </td><td>PAIDOFF             </td><td>1000                </td><td>30                  </td><td>2016-09-08          </td><td>2016-10-07          </td><td>33                  </td><td>Bechalor            </td><td>female              </td><td>3                   </td></tr>\n",
       "\t<tr><td>3                   </td><td>3                   </td><td>PAIDOFF             </td><td>1000                </td><td>15                  </td><td>2016-09-08          </td><td>2016-09-22          </td><td>27                  </td><td>college             </td><td>male                </td><td>3                   </td></tr>\n",
       "\t<tr><td>4                   </td><td>4                   </td><td>PAIDOFF             </td><td>1000                </td><td>30                  </td><td>2016-09-09          </td><td>2016-10-08          </td><td>28                  </td><td>college             </td><td>female              </td><td>4                   </td></tr>\n",
       "\t<tr><td>5                   </td><td>5                   </td><td>PAIDOFF             </td><td> 300                </td><td> 7                  </td><td>2016-09-09          </td><td>2016-09-15          </td><td>35                  </td><td>Master or Above     </td><td>male                </td><td>4                   </td></tr>\n",
       "</tbody>\n",
       "</table>\n"
      ],
      "text/latex": [
       "\\begin{tabular}{r|lllllllllll}\n",
       " X & Unnamed..0 & loan\\_status & Principal & terms & effective\\_date & due\\_date & age & education & Gender & dayofweek\\\\\n",
       "\\hline\n",
       "\t 0                    & 0                    & PAIDOFF              & 1000                 & 30                   & 2016-09-08           & 2016-10-07           & 45                   & High School or Below & male                 & 3                   \\\\\n",
       "\t 1                    & 1                    & PAIDOFF              & 1000                 & 30                   & 2016-09-08           & 2016-10-07           & 50                   & Bechalor             & female               & 3                   \\\\\n",
       "\t 2                    & 2                    & PAIDOFF              & 1000                 & 30                   & 2016-09-08           & 2016-10-07           & 33                   & Bechalor             & female               & 3                   \\\\\n",
       "\t 3                    & 3                    & PAIDOFF              & 1000                 & 15                   & 2016-09-08           & 2016-09-22           & 27                   & college              & male                 & 3                   \\\\\n",
       "\t 4                    & 4                    & PAIDOFF              & 1000                 & 30                   & 2016-09-09           & 2016-10-08           & 28                   & college              & female               & 4                   \\\\\n",
       "\t 5                    & 5                    & PAIDOFF              &  300                 &  7                   & 2016-09-09           & 2016-09-15           & 35                   & Master or Above      & male                 & 4                   \\\\\n",
       "\\end{tabular}\n"
      ],
      "text/markdown": [
       "\n",
       "X | Unnamed..0 | loan_status | Principal | terms | effective_date | due_date | age | education | Gender | dayofweek | \n",
       "|---|---|---|---|---|---|\n",
       "| 0                    | 0                    | PAIDOFF              | 1000                 | 30                   | 2016-09-08           | 2016-10-07           | 45                   | High School or Below | male                 | 3                    | \n",
       "| 1                    | 1                    | PAIDOFF              | 1000                 | 30                   | 2016-09-08           | 2016-10-07           | 50                   | Bechalor             | female               | 3                    | \n",
       "| 2                    | 2                    | PAIDOFF              | 1000                 | 30                   | 2016-09-08           | 2016-10-07           | 33                   | Bechalor             | female               | 3                    | \n",
       "| 3                    | 3                    | PAIDOFF              | 1000                 | 15                   | 2016-09-08           | 2016-09-22           | 27                   | college              | male                 | 3                    | \n",
       "| 4                    | 4                    | PAIDOFF              | 1000                 | 30                   | 2016-09-09           | 2016-10-08           | 28                   | college              | female               | 4                    | \n",
       "| 5                    | 5                    | PAIDOFF              |  300                 |  7                   | 2016-09-09           | 2016-09-15           | 35                   | Master or Above      | male                 | 4                    | \n",
       "\n",
       "\n"
      ],
      "text/plain": [
       "  X Unnamed..0 loan_status Principal terms effective_date due_date   age\n",
       "1 0 0          PAIDOFF     1000      30    2016-09-08     2016-10-07 45 \n",
       "2 1 1          PAIDOFF     1000      30    2016-09-08     2016-10-07 50 \n",
       "3 2 2          PAIDOFF     1000      30    2016-09-08     2016-10-07 33 \n",
       "4 3 3          PAIDOFF     1000      15    2016-09-08     2016-09-22 27 \n",
       "5 4 4          PAIDOFF     1000      30    2016-09-09     2016-10-08 28 \n",
       "6 5 5          PAIDOFF      300       7    2016-09-09     2016-09-15 35 \n",
       "  education            Gender dayofweek\n",
       "1 High School or Below male   3        \n",
       "2 Bechalor             female 3        \n",
       "3 Bechalor             female 3        \n",
       "4 college              male   3        \n",
       "5 college              female 4        \n",
       "6 Master or Above      male   4        "
      ]
     },
     "metadata": {},
     "output_type": "display_data"
    }
   ],
   "source": [
    "LoanData <- read.csv(\"LoanData.csv\")\n",
    "head(LoanData)"
   ]
  },
  {
   "cell_type": "markdown",
   "metadata": {},
   "source": [
    "#### How many rows, columns in total?"
   ]
  },
  {
   "cell_type": "code",
   "execution_count": 8,
   "metadata": {},
   "outputs": [
    {
     "data": {
      "text/html": [
       "400"
      ],
      "text/latex": [
       "400"
      ],
      "text/markdown": [
       "400"
      ],
      "text/plain": [
       "[1] 400"
      ]
     },
     "metadata": {},
     "output_type": "display_data"
    }
   ],
   "source": [
    "nrow(LoanData)"
   ]
  },
  {
   "cell_type": "code",
   "execution_count": 9,
   "metadata": {},
   "outputs": [
    {
     "data": {
      "text/html": [
       "11"
      ],
      "text/latex": [
       "11"
      ],
      "text/markdown": [
       "11"
      ],
      "text/plain": [
       "[1] 11"
      ]
     },
     "metadata": {},
     "output_type": "display_data"
    }
   ],
   "source": [
    "ncol(LoanData)"
   ]
  },
  {
   "cell_type": "markdown",
   "metadata": {},
   "source": [
    "# Data Visualization and Analysis \n",
    "\n"
   ]
  },
  {
   "cell_type": "markdown",
   "metadata": {},
   "source": [
    "#### Let’s see how many of each class is in our data set "
   ]
  },
  {
   "cell_type": "code",
   "execution_count": 10,
   "metadata": {},
   "outputs": [
    {
     "data": {
      "text/plain": [
       "\n",
       "COLLECTION    PAIDOFF \n",
       "       100        300 "
      ]
     },
     "metadata": {},
     "output_type": "display_data"
    }
   ],
   "source": [
    "#df['loan_status'].value_counts()\n",
    "base::table(LoanData['loan_status'])"
   ]
  },
  {
   "cell_type": "markdown",
   "metadata": {},
   "source": [
    "#### 300 people have paid off the loan on time and 100 have gone into collection \n"
   ]
  },
  {
   "cell_type": "markdown",
   "metadata": {},
   "source": [
    "### Lets Plot a Histogram of the data"
   ]
  },
  {
   "cell_type": "markdown",
   "metadata": {},
   "source": [
    "For different __Principal:__"
   ]
  },
  {
   "cell_type": "code",
   "execution_count": 11,
   "metadata": {},
   "outputs": [
    {
     "data": {},
     "metadata": {},
     "output_type": "display_data"
    },
    {
     "data": {
      "image/png": "[encoded data removed]"
     },
     "metadata": {},
     "output_type": "display_data"
    }
   ],
   "source": [
    "ggplot(LoanData, aes(x=Principal, fill=loan_status)) +geom_histogram(binwidth=120,alpha=0.35,aes(y=0.5*..density..),position='identity')"
   ]
  },
  {
   "cell_type": "markdown",
   "metadata": {},
   "source": [
    "For different __terms:__"
   ]
  },
  {
   "cell_type": "code",
   "execution_count": 12,
   "metadata": {},
   "outputs": [
    {
     "data": {},
     "metadata": {},
     "output_type": "display_data"
    },
    {
     "data": {
      "image/png": "[encoded data removed]"
     },
     "metadata": {},
     "output_type": "display_data"
    }
   ],
   "source": [
    "ggplot(LoanData, aes(x=terms, fill=loan_status)) +geom_histogram(binwidth=10,alpha=0.45,aes(y=1*..density..),position='identity')+scale_x_continuous(limits = c(0, 40))"
   ]
  },
  {
   "cell_type": "markdown",
   "metadata": {},
   "source": [
    "And, for different ages:"
   ]
  },
  {
   "cell_type": "code",
   "execution_count": 13,
   "metadata": {},
   "outputs": [
    {
     "data": {},
     "metadata": {},
     "output_type": "display_data"
    },
    {
     "data": {
      "image/png": "[encoded data removed]"
     },
     "metadata": {},
     "output_type": "display_data"
    }
   ],
   "source": [
    "ggplot(LoanData, aes(x=age, fill=loan_status)) +geom_histogram(binwidth=1,alpha=0.55,aes(y=1*..density..),position='identity')"
   ]
  },
  {
   "cell_type": "markdown",
   "metadata": {},
   "source": [
    "## Let’s Examine the Variables in Two Dimensions   "
   ]
  },
  {
   "cell_type": "code",
   "execution_count": 14,
   "metadata": {},
   "outputs": [
    {
     "name": "stderr",
     "output_type": "stream",
     "text": [
      "Warning message:\n",
      "\"Removed 12 rows containing non-finite values (stat_bin).\""
     ]
    },
    {
     "data": {
      "image/png": "[encoded data removed]"
     },
     "metadata": {},
     "output_type": "display_data"
    }
   ],
   "source": [
    "hist_top <-ggplot(LoanData, aes(x=Principal, fill=loan_status)) +geom_histogram(binwidth=100,alpha=0.55,aes(y=1*..density..),position='identity')+ theme(legend.position=\"none\")+scale_x_continuous(limits = c(200, 1100))\n",
    "empty <- ggplot()+geom_point(aes(1,1), colour=\"white\")+\n",
    "         theme(axis.ticks=element_blank(), \n",
    "               panel.background=element_blank(), \n",
    "               axis.text.x=element_blank(), axis.text.y=element_blank(),           \n",
    "               axis.title.x=element_blank(), axis.title.y=element_blank())\n",
    "\n",
    "#qplot(Principal, age, data = LoanData, colour = loan_status)\n",
    "scatter <-ggplot(LoanData, aes(Principal, age),fill= loan_status)  + geom_point(aes(colour = loan_status))+ theme(legend.position=\"top\")\n",
    "hist_right <-ggplot(LoanData, aes(x=age, fill=loan_status))+scale_x_continuous(limits = c(20, 45)) +geom_histogram(binwidth=1,alpha=0.55,aes(y=0.5*..density..),position='identity')+coord_flip()+ theme(legend.position=\"none\")\n",
    "\n",
    "\n",
    "grid.arrange(hist_top, empty, scatter, hist_right, ncol=2, nrow=2, widths=c(4, 1), heights=c(1, 4))"
   ]
  },
  {
   "cell_type": "markdown",
   "metadata": {},
   "source": [
    "# Pre-processing:  Feature selection/extraction"
   ]
  },
  {
   "cell_type": "markdown",
   "metadata": {},
   "source": [
    "### Lets look at the day of the week people get the loan "
   ]
  },
  {
   "cell_type": "code",
   "execution_count": 15,
   "metadata": {
    "scrolled": false
   },
   "outputs": [
    {
     "data": {},
     "metadata": {},
     "output_type": "display_data"
    },
    {
     "data": {
      "image/png": "[encoded data removed]"
     },
     "metadata": {},
     "output_type": "display_data"
    }
   ],
   "source": [
    "ggplot(LoanData, aes(x=dayofweek, fill=loan_status))  +geom_histogram(binwidth=1,alpha=0.55,aes(y=1*..density..),position='identity')+scale_x_continuous(limits = c(0, 7))"
   ]
  },
  {
   "cell_type": "markdown",
   "metadata": {},
   "source": [
    "We see that people who get the loan at the end of the week dont pay it off, so lets use Feature binarization to set a threshold values less then day 4 "
   ]
  },
  {
   "cell_type": "markdown",
   "metadata": {},
   "source": [
    "#### Converting days of the week to categorical value\n",
    "\n",
    "Create empty vector for indicator variable, Then, Set all values over the 3 day equal to one,  else keep them at zero. "
   ]
  },
  {
   "cell_type": "code",
   "execution_count": 16,
   "metadata": {},
   "outputs": [
    {
     "data": {
      "text/html": [
       "<table>\n",
       "<thead><tr><th scope=col>X</th><th scope=col>Unnamed..0</th><th scope=col>loan_status</th><th scope=col>Principal</th><th scope=col>terms</th><th scope=col>effective_date</th><th scope=col>due_date</th><th scope=col>age</th><th scope=col>education</th><th scope=col>Gender</th><th scope=col>dayofweek</th><th scope=col>Weekend</th></tr></thead>\n",
       "<tbody>\n",
       "\t<tr><td>0                   </td><td>0                   </td><td>PAIDOFF             </td><td>1000                </td><td>30                  </td><td>2016-09-08          </td><td>2016-10-07          </td><td>45                  </td><td>High School or Below</td><td>male                </td><td>3                   </td><td>0                   </td></tr>\n",
       "\t<tr><td>1                   </td><td>1                   </td><td>PAIDOFF             </td><td>1000                </td><td>30                  </td><td>2016-09-08          </td><td>2016-10-07          </td><td>50                  </td><td>Bechalor            </td><td>female              </td><td>3                   </td><td>0                   </td></tr>\n",
       "\t<tr><td>2                   </td><td>2                   </td><td>PAIDOFF             </td><td>1000                </td><td>30                  </td><td>2016-09-08          </td><td>2016-10-07          </td><td>33                  </td><td>Bechalor            </td><td>female              </td><td>3                   </td><td>0                   </td></tr>\n",
       "\t<tr><td>3                   </td><td>3                   </td><td>PAIDOFF             </td><td>1000                </td><td>15                  </td><td>2016-09-08          </td><td>2016-09-22          </td><td>27                  </td><td>college             </td><td>male                </td><td>3                   </td><td>0                   </td></tr>\n",
       "\t<tr><td>4                   </td><td>4                   </td><td>PAIDOFF             </td><td>1000                </td><td>30                  </td><td>2016-09-09          </td><td>2016-10-08          </td><td>28                  </td><td>college             </td><td>female              </td><td>4                   </td><td>1                   </td></tr>\n",
       "\t<tr><td>5                   </td><td>5                   </td><td>PAIDOFF             </td><td> 300                </td><td> 7                  </td><td>2016-09-09          </td><td>2016-09-15          </td><td>35                  </td><td>Master or Above     </td><td>male                </td><td>4                   </td><td>1                   </td></tr>\n",
       "</tbody>\n",
       "</table>\n"
      ],
      "text/latex": [
       "\\begin{tabular}{r|llllllllllll}\n",
       " X & Unnamed..0 & loan\\_status & Principal & terms & effective\\_date & due\\_date & age & education & Gender & dayofweek & Weekend\\\\\n",
       "\\hline\n",
       "\t 0                    & 0                    & PAIDOFF              & 1000                 & 30                   & 2016-09-08           & 2016-10-07           & 45                   & High School or Below & male                 & 3                    & 0                   \\\\\n",
       "\t 1                    & 1                    & PAIDOFF              & 1000                 & 30                   & 2016-09-08           & 2016-10-07           & 50                   & Bechalor             & female               & 3                    & 0                   \\\\\n",
       "\t 2                    & 2                    & PAIDOFF              & 1000                 & 30                   & 2016-09-08           & 2016-10-07           & 33                   & Bechalor             & female               & 3                    & 0                   \\\\\n",
       "\t 3                    & 3                    & PAIDOFF              & 1000                 & 15                   & 2016-09-08           & 2016-09-22           & 27                   & college              & male                 & 3                    & 0                   \\\\\n",
       "\t 4                    & 4                    & PAIDOFF              & 1000                 & 30                   & 2016-09-09           & 2016-10-08           & 28                   & college              & female               & 4                    & 1                   \\\\\n",
       "\t 5                    & 5                    & PAIDOFF              &  300                 &  7                   & 2016-09-09           & 2016-09-15           & 35                   & Master or Above      & male                 & 4                    & 1                   \\\\\n",
       "\\end{tabular}\n"
      ],
      "text/markdown": [
       "\n",
       "X | Unnamed..0 | loan_status | Principal | terms | effective_date | due_date | age | education | Gender | dayofweek | Weekend | \n",
       "|---|---|---|---|---|---|\n",
       "| 0                    | 0                    | PAIDOFF              | 1000                 | 30                   | 2016-09-08           | 2016-10-07           | 45                   | High School or Below | male                 | 3                    | 0                    | \n",
       "| 1                    | 1                    | PAIDOFF              | 1000                 | 30                   | 2016-09-08           | 2016-10-07           | 50                   | Bechalor             | female               | 3                    | 0                    | \n",
       "| 2                    | 2                    | PAIDOFF              | 1000                 | 30                   | 2016-09-08           | 2016-10-07           | 33                   | Bechalor             | female               | 3                    | 0                    | \n",
       "| 3                    | 3                    | PAIDOFF              | 1000                 | 15                   | 2016-09-08           | 2016-09-22           | 27                   | college              | male                 | 3                    | 0                    | \n",
       "| 4                    | 4                    | PAIDOFF              | 1000                 | 30                   | 2016-09-09           | 2016-10-08           | 28                   | college              | female               | 4                    | 1                    | \n",
       "| 5                    | 5                    | PAIDOFF              |  300                 |  7                   | 2016-09-09           | 2016-09-15           | 35                   | Master or Above      | male                 | 4                    | 1                    | \n",
       "\n",
       "\n"
      ],
      "text/plain": [
       "  X Unnamed..0 loan_status Principal terms effective_date due_date   age\n",
       "1 0 0          PAIDOFF     1000      30    2016-09-08     2016-10-07 45 \n",
       "2 1 1          PAIDOFF     1000      30    2016-09-08     2016-10-07 50 \n",
       "3 2 2          PAIDOFF     1000      30    2016-09-08     2016-10-07 33 \n",
       "4 3 3          PAIDOFF     1000      15    2016-09-08     2016-09-22 27 \n",
       "5 4 4          PAIDOFF     1000      30    2016-09-09     2016-10-08 28 \n",
       "6 5 5          PAIDOFF      300       7    2016-09-09     2016-09-15 35 \n",
       "  education            Gender dayofweek Weekend\n",
       "1 High School or Below male   3         0      \n",
       "2 Bechalor             female 3         0      \n",
       "3 Bechalor             female 3         0      \n",
       "4 college              male   3         0      \n",
       "5 college              female 4         1      \n",
       "6 Master or Above      male   4         1      "
      ]
     },
     "metadata": {},
     "output_type": "display_data"
    }
   ],
   "source": [
    "namevector <- c(\"Weekend\")\n",
    "LoanData[,namevector] <- 0\n",
    "LoanData$Weekend[LoanData$dayofweek>3]<-1\n",
    "head(LoanData)"
   ]
  },
  {
   "cell_type": "markdown",
   "metadata": {},
   "source": [
    "### Encoding one categorical  feature \n",
    "We have to encode the `gender` column as well."
   ]
  },
  {
   "cell_type": "code",
   "execution_count": 17,
   "metadata": {},
   "outputs": [
    {
     "data": {
      "text/html": [
       "<table>\n",
       "<thead><tr><th scope=col>Gender</th><th scope=col>Gender01</th></tr></thead>\n",
       "<tbody>\n",
       "\t<tr><td>male  </td><td>1     </td></tr>\n",
       "\t<tr><td>female</td><td>0     </td></tr>\n",
       "\t<tr><td>female</td><td>0     </td></tr>\n",
       "\t<tr><td>male  </td><td>1     </td></tr>\n",
       "\t<tr><td>female</td><td>0     </td></tr>\n",
       "\t<tr><td>male  </td><td>1     </td></tr>\n",
       "</tbody>\n",
       "</table>\n"
      ],
      "text/latex": [
       "\\begin{tabular}{r|ll}\n",
       " Gender & Gender01\\\\\n",
       "\\hline\n",
       "\t male   & 1     \\\\\n",
       "\t female & 0     \\\\\n",
       "\t female & 0     \\\\\n",
       "\t male   & 1     \\\\\n",
       "\t female & 0     \\\\\n",
       "\t male   & 1     \\\\\n",
       "\\end{tabular}\n"
      ],
      "text/markdown": [
       "\n",
       "Gender | Gender01 | \n",
       "|---|---|---|---|---|---|\n",
       "| male   | 1      | \n",
       "| female | 0      | \n",
       "| female | 0      | \n",
       "| male   | 1      | \n",
       "| female | 0      | \n",
       "| male   | 1      | \n",
       "\n",
       "\n"
      ],
      "text/plain": [
       "  Gender Gender01\n",
       "1 male   1       \n",
       "2 female 0       \n",
       "3 female 0       \n",
       "4 male   1       \n",
       "5 female 0       \n",
       "6 male   1       "
      ]
     },
     "metadata": {},
     "output_type": "display_data"
    }
   ],
   "source": [
    "namevector <- c(\"Gender01\")\n",
    "LoanData[,namevector] <- 0\n",
    "LoanData$Gender01[LoanData$Gender=='male']=1\n",
    "head(LoanData[,c('Gender','Gender01')])"
   ]
  },
  {
   "cell_type": "code",
   "execution_count": 18,
   "metadata": {},
   "outputs": [
    {
     "data": {
      "text/plain": [
       "   \n",
       "    COLLECTION PAIDOFF\n",
       "  0         10      53\n",
       "  1         90     247"
      ]
     },
     "metadata": {},
     "output_type": "display_data"
    }
   ],
   "source": [
    "base::table(LoanData$Gender01, LoanData$loan_status)"
   ]
  },
  {
   "cell_type": "code",
   "execution_count": 19,
   "metadata": {},
   "outputs": [
    {
     "data": {},
     "metadata": {},
     "output_type": "display_data"
    },
    {
     "data": {
      "image/png": "[encoded data removed]"
     },
     "metadata": {},
     "output_type": "display_data"
    }
   ],
   "source": [
    "ggplot(LoanData, aes(x=Gender01, fill=loan_status))  +geom_histogram(binwidth=1,alpha=0.55,aes(y=1*..density..),position='identity')+scale_x_continuous(limits = c(0, 2))"
   ]
  },
  {
   "cell_type": "markdown",
   "metadata": {},
   "source": [
    "As we can see, 84 % of female pay there loans while ony 73 % of males  pay there loan"
   ]
  },
  {
   "cell_type": "markdown",
   "metadata": {},
   "source": [
    "### Convert  Multiple Categorical Features  Using One Hot Encoding "
   ]
  },
  {
   "cell_type": "markdown",
   "metadata": {},
   "source": [
    "Some variables, such as `Education`, have multiple value, and we have to use __ one-hot encoding__ technique to discretize them, therefore, we use `dummies` library."
   ]
  },
  {
   "cell_type": "code",
   "execution_count": 20,
   "metadata": {},
   "outputs": [
    {
     "name": "stderr",
     "output_type": "stream",
     "text": [
      "dummies-1.5.6 provided by Decision Patterns\n",
      "\n"
     ]
    }
   ],
   "source": [
    "library(dummies)"
   ]
  },
  {
   "cell_type": "markdown",
   "metadata": {},
   "source": [
    "Feature befor One Hot Encoding:"
   ]
  },
  {
   "cell_type": "code",
   "execution_count": 21,
   "metadata": {},
   "outputs": [
    {
     "data": {
      "text/html": [
       "<table>\n",
       "<thead><tr><th scope=col>education</th></tr></thead>\n",
       "<tbody>\n",
       "\t<tr><td>High School or Below</td></tr>\n",
       "\t<tr><td>Bechalor            </td></tr>\n",
       "\t<tr><td>Bechalor            </td></tr>\n",
       "\t<tr><td>college             </td></tr>\n",
       "\t<tr><td>college             </td></tr>\n",
       "\t<tr><td>Master or Above     </td></tr>\n",
       "</tbody>\n",
       "</table>\n"
      ],
      "text/latex": [
       "\\begin{tabular}{r|l}\n",
       " education\\\\\n",
       "\\hline\n",
       "\t High School or Below\\\\\n",
       "\t Bechalor            \\\\\n",
       "\t Bechalor            \\\\\n",
       "\t college             \\\\\n",
       "\t college             \\\\\n",
       "\t Master or Above     \\\\\n",
       "\\end{tabular}\n"
      ],
      "text/markdown": [
       "\n",
       "education | \n",
       "|---|---|---|---|---|---|\n",
       "| High School or Below | \n",
       "| Bechalor             | \n",
       "| Bechalor             | \n",
       "| college              | \n",
       "| college              | \n",
       "| Master or Above      | \n",
       "\n",
       "\n"
      ],
      "text/plain": [
       "  education           \n",
       "1 High School or Below\n",
       "2 Bechalor            \n",
       "3 Bechalor            \n",
       "4 college             \n",
       "5 college             \n",
       "6 Master or Above     "
      ]
     },
     "metadata": {},
     "output_type": "display_data"
    }
   ],
   "source": [
    "head(LoanData['education'])"
   ]
  },
  {
   "cell_type": "markdown",
   "metadata": {},
   "source": [
    "Use one hot encoding technique to conver categorical varables to binary variables and append them to the feature Data Frame "
   ]
  },
  {
   "cell_type": "code",
   "execution_count": 22,
   "metadata": {},
   "outputs": [
    {
     "data": {
      "text/html": [
       "<table>\n",
       "<thead><tr><th scope=col>educationBechalor</th><th scope=col>educationcollege</th><th scope=col>educationHigh School or Below</th><th scope=col>educationMaster or Above</th></tr></thead>\n",
       "<tbody>\n",
       "\t<tr><td>0</td><td>0</td><td>1</td><td>0</td></tr>\n",
       "\t<tr><td>1</td><td>0</td><td>0</td><td>0</td></tr>\n",
       "\t<tr><td>1</td><td>0</td><td>0</td><td>0</td></tr>\n",
       "\t<tr><td>0</td><td>1</td><td>0</td><td>0</td></tr>\n",
       "\t<tr><td>0</td><td>1</td><td>0</td><td>0</td></tr>\n",
       "\t<tr><td>0</td><td>0</td><td>0</td><td>1</td></tr>\n",
       "</tbody>\n",
       "</table>\n"
      ],
      "text/latex": [
       "\\begin{tabular}{r|llll}\n",
       " educationBechalor & educationcollege & educationHigh School or Below & educationMaster or Above\\\\\n",
       "\\hline\n",
       "\t 0 & 0 & 1 & 0\\\\\n",
       "\t 1 & 0 & 0 & 0\\\\\n",
       "\t 1 & 0 & 0 & 0\\\\\n",
       "\t 0 & 1 & 0 & 0\\\\\n",
       "\t 0 & 1 & 0 & 0\\\\\n",
       "\t 0 & 0 & 0 & 1\\\\\n",
       "\\end{tabular}\n"
      ],
      "text/markdown": [
       "\n",
       "educationBechalor | educationcollege | educationHigh School or Below | educationMaster or Above | \n",
       "|---|---|---|---|---|---|\n",
       "| 0 | 0 | 1 | 0 | \n",
       "| 1 | 0 | 0 | 0 | \n",
       "| 1 | 0 | 0 | 0 | \n",
       "| 0 | 1 | 0 | 0 | \n",
       "| 0 | 1 | 0 | 0 | \n",
       "| 0 | 0 | 0 | 1 | \n",
       "\n",
       "\n"
      ],
      "text/plain": [
       "  educationBechalor educationcollege educationHigh School or Below\n",
       "1 0                 0                1                            \n",
       "2 1                 0                0                            \n",
       "3 1                 0                0                            \n",
       "4 0                 1                0                            \n",
       "5 0                 1                0                            \n",
       "6 0                 0                0                            \n",
       "  educationMaster or Above\n",
       "1 0                       \n",
       "2 0                       \n",
       "3 0                       \n",
       "4 0                       \n",
       "5 0                       \n",
       "6 1                       "
      ]
     },
     "metadata": {},
     "output_type": "display_data"
    }
   ],
   "source": [
    "LoanData=dummy.data.frame(LoanData, names=c(\"education\"))\n",
    "head(LoanData[c('educationBechalor', 'educationcollege',  'educationHigh School or Below','educationMaster or Above')])"
   ]
  },
  {
   "cell_type": "markdown",
   "metadata": {},
   "source": [
    "### Assembling the features\n",
    "\n",
    "Let’s put all the features in a Data Frame "
   ]
  },
  {
   "cell_type": "code",
   "execution_count": 23,
   "metadata": {},
   "outputs": [
    {
     "data": {
      "text/html": [
       "<table>\n",
       "<thead><tr><th scope=col>Principal</th><th scope=col>terms</th><th scope=col>age</th><th scope=col>educationBechalor</th><th scope=col>educationcollege</th><th scope=col>educationHigh School or Below</th><th scope=col>educationMaster or Above</th><th scope=col>Weekend</th><th scope=col>Gender01</th></tr></thead>\n",
       "<tbody>\n",
       "\t<tr><td>1000</td><td>30  </td><td>45  </td><td>0   </td><td>0   </td><td>1   </td><td>0   </td><td>0   </td><td>1   </td></tr>\n",
       "\t<tr><td>1000</td><td>30  </td><td>50  </td><td>1   </td><td>0   </td><td>0   </td><td>0   </td><td>0   </td><td>0   </td></tr>\n",
       "\t<tr><td>1000</td><td>30  </td><td>33  </td><td>1   </td><td>0   </td><td>0   </td><td>0   </td><td>0   </td><td>0   </td></tr>\n",
       "\t<tr><td>1000</td><td>15  </td><td>27  </td><td>0   </td><td>1   </td><td>0   </td><td>0   </td><td>0   </td><td>1   </td></tr>\n",
       "\t<tr><td>1000</td><td>30  </td><td>28  </td><td>0   </td><td>1   </td><td>0   </td><td>0   </td><td>1   </td><td>0   </td></tr>\n",
       "\t<tr><td> 300</td><td> 7  </td><td>35  </td><td>0   </td><td>0   </td><td>0   </td><td>1   </td><td>1   </td><td>1   </td></tr>\n",
       "</tbody>\n",
       "</table>\n"
      ],
      "text/latex": [
       "\\begin{tabular}{r|lllllllll}\n",
       " Principal & terms & age & educationBechalor & educationcollege & educationHigh School or Below & educationMaster or Above & Weekend & Gender01\\\\\n",
       "\\hline\n",
       "\t 1000 & 30   & 45   & 0    & 0    & 1    & 0    & 0    & 1   \\\\\n",
       "\t 1000 & 30   & 50   & 1    & 0    & 0    & 0    & 0    & 0   \\\\\n",
       "\t 1000 & 30   & 33   & 1    & 0    & 0    & 0    & 0    & 0   \\\\\n",
       "\t 1000 & 15   & 27   & 0    & 1    & 0    & 0    & 0    & 1   \\\\\n",
       "\t 1000 & 30   & 28   & 0    & 1    & 0    & 0    & 1    & 0   \\\\\n",
       "\t  300 &  7   & 35   & 0    & 0    & 0    & 1    & 1    & 1   \\\\\n",
       "\\end{tabular}\n"
      ],
      "text/markdown": [
       "\n",
       "Principal | terms | age | educationBechalor | educationcollege | educationHigh School or Below | educationMaster or Above | Weekend | Gender01 | \n",
       "|---|---|---|---|---|---|\n",
       "| 1000 | 30   | 45   | 0    | 0    | 1    | 0    | 0    | 1    | \n",
       "| 1000 | 30   | 50   | 1    | 0    | 0    | 0    | 0    | 0    | \n",
       "| 1000 | 30   | 33   | 1    | 0    | 0    | 0    | 0    | 0    | \n",
       "| 1000 | 15   | 27   | 0    | 1    | 0    | 0    | 0    | 1    | \n",
       "| 1000 | 30   | 28   | 0    | 1    | 0    | 0    | 1    | 0    | \n",
       "|  300 |  7   | 35   | 0    | 0    | 0    | 1    | 1    | 1    | \n",
       "\n",
       "\n"
      ],
      "text/plain": [
       "  Principal terms age educationBechalor educationcollege\n",
       "1 1000      30    45  0                 0               \n",
       "2 1000      30    50  1                 0               \n",
       "3 1000      30    33  1                 0               \n",
       "4 1000      15    27  0                 1               \n",
       "5 1000      30    28  0                 1               \n",
       "6  300       7    35  0                 0               \n",
       "  educationHigh School or Below educationMaster or Above Weekend Gender01\n",
       "1 1                             0                        0       1       \n",
       "2 0                             0                        0       0       \n",
       "3 0                             0                        0       0       \n",
       "4 0                             0                        0       1       \n",
       "5 0                             0                        1       0       \n",
       "6 0                             1                        1       1       "
      ]
     },
     "metadata": {},
     "output_type": "display_data"
    }
   ],
   "source": [
    "Colunms <- c('Principal','terms','age','educationBechalor', 'educationcollege',  'educationHigh School or Below','educationMaster or Above','Weekend','Gender01')\n",
    "Data <- LoanData[Colunms]\n",
    "head(Data)"
   ]
  },
  {
   "cell_type": "markdown",
   "metadata": {},
   "source": [
    "Lets put all the labels in the data frame y"
   ]
  },
  {
   "cell_type": "code",
   "execution_count": 24,
   "metadata": {},
   "outputs": [
    {
     "data": {
      "text/html": [
       "<ol class=list-inline>\n",
       "\t<li>1</li>\n",
       "\t<li>1</li>\n",
       "\t<li>1</li>\n",
       "\t<li>1</li>\n",
       "\t<li>1</li>\n",
       "\t<li>1</li>\n",
       "\t<li>1</li>\n",
       "\t<li>1</li>\n",
       "\t<li>1</li>\n",
       "\t<li>1</li>\n",
       "</ol>\n"
      ],
      "text/latex": [
       "\\begin{enumerate*}\n",
       "\\item 1\n",
       "\\item 1\n",
       "\\item 1\n",
       "\\item 1\n",
       "\\item 1\n",
       "\\item 1\n",
       "\\item 1\n",
       "\\item 1\n",
       "\\item 1\n",
       "\\item 1\n",
       "\\end{enumerate*}\n"
      ],
      "text/markdown": [
       "1. 1\n",
       "2. 1\n",
       "3. 1\n",
       "4. 1\n",
       "5. 1\n",
       "6. 1\n",
       "7. 1\n",
       "8. 1\n",
       "9. 1\n",
       "10. 1\n",
       "\n",
       "\n"
      ],
      "text/plain": [
       " [1] 1 1 1 1 1 1 1 1 1 1"
      ]
     },
     "metadata": {},
     "output_type": "display_data"
    },
    {
     "data": {
      "text/html": [
       "<ol class=list-inline>\n",
       "\t<li>PAIDOFF</li>\n",
       "\t<li>PAIDOFF</li>\n",
       "\t<li>PAIDOFF</li>\n",
       "\t<li>PAIDOFF</li>\n",
       "\t<li>PAIDOFF</li>\n",
       "\t<li>PAIDOFF</li>\n",
       "\t<li>PAIDOFF</li>\n",
       "\t<li>PAIDOFF</li>\n",
       "\t<li>PAIDOFF</li>\n",
       "\t<li>PAIDOFF</li>\n",
       "</ol>\n",
       "\n",
       "<details>\n",
       "\t<summary style=display:list-item;cursor:pointer>\n",
       "\t\t<strong>Levels</strong>:\n",
       "\t</summary>\n",
       "\t<ol class=list-inline>\n",
       "\t\t<li>'COLLECTION'</li>\n",
       "\t\t<li>'PAIDOFF'</li>\n",
       "\t</ol>\n",
       "</details>"
      ],
      "text/latex": [
       "\\begin{enumerate*}\n",
       "\\item PAIDOFF\n",
       "\\item PAIDOFF\n",
       "\\item PAIDOFF\n",
       "\\item PAIDOFF\n",
       "\\item PAIDOFF\n",
       "\\item PAIDOFF\n",
       "\\item PAIDOFF\n",
       "\\item PAIDOFF\n",
       "\\item PAIDOFF\n",
       "\\item PAIDOFF\n",
       "\\end{enumerate*}\n",
       "\n",
       "\\emph{Levels}: \\begin{enumerate*}\n",
       "\\item 'COLLECTION'\n",
       "\\item 'PAIDOFF'\n",
       "\\end{enumerate*}\n"
      ],
      "text/markdown": [
       "1. PAIDOFF\n",
       "2. PAIDOFF\n",
       "3. PAIDOFF\n",
       "4. PAIDOFF\n",
       "5. PAIDOFF\n",
       "6. PAIDOFF\n",
       "7. PAIDOFF\n",
       "8. PAIDOFF\n",
       "9. PAIDOFF\n",
       "10. PAIDOFF\n",
       "\n",
       "\n",
       "\n",
       "**Levels**: 1. 'COLLECTION'\n",
       "2. 'PAIDOFF'\n",
       "\n",
       "\n"
      ],
      "text/plain": [
       " [1] PAIDOFF PAIDOFF PAIDOFF PAIDOFF PAIDOFF PAIDOFF PAIDOFF PAIDOFF PAIDOFF\n",
       "[10] PAIDOFF\n",
       "Levels: COLLECTION PAIDOFF"
      ]
     },
     "metadata": {},
     "output_type": "display_data"
    }
   ],
   "source": [
    "NewColumn <- c(\"Class\")\n",
    "Data[,NewColumn] <- 0\n",
    "Data$Class[LoanData$loan_status=='PAIDOFF']=1\n",
    "head(Data[,NewColumn],10)\n",
    "head(LoanData$loan_status,10)"
   ]
  },
  {
   "cell_type": "markdown",
   "metadata": {},
   "source": [
    "## Normalize Data "
   ]
  },
  {
   "cell_type": "markdown",
   "metadata": {},
   "source": [
    "Data Standardization give data zero mean and unit variance (technically should be done after train test split )"
   ]
  },
  {
   "cell_type": "code",
   "execution_count": 25,
   "metadata": {},
   "outputs": [
    {
     "data": {
      "text/html": [
       "<table>\n",
       "<thead><tr><th scope=col>Principal</th><th scope=col>terms</th><th scope=col>age</th><th scope=col>educationBechalor</th><th scope=col>educationcollege</th><th scope=col>educationHigh School or Below</th><th scope=col>educationMaster or Above</th><th scope=col>Weekend</th><th scope=col>Gender01</th></tr></thead>\n",
       "<tbody>\n",
       "\t<tr><td> 0.5006747</td><td> 0.9197424</td><td> 2.3104561</td><td>-0.3860722</td><td>-0.8674676</td><td> 1.1498989</td><td>-0.1003781</td><td>-1.2168652</td><td> 0.431829 </td></tr>\n",
       "\t<tr><td> 0.5006747</td><td> 0.9197424</td><td> 3.1391707</td><td> 2.5837138</td><td>-0.8674676</td><td>-0.8674676</td><td>-0.1003781</td><td>-1.2168652</td><td>-2.309942 </td></tr>\n",
       "\t<tr><td> 0.5006747</td><td> 0.9197424</td><td> 0.3215412</td><td> 2.5837138</td><td>-0.8674676</td><td>-0.8674676</td><td>-0.1003781</td><td>-1.2168652</td><td>-2.309942 </td></tr>\n",
       "\t<tr><td> 0.5006747</td><td>-0.9320879</td><td>-0.6729162</td><td>-0.3860722</td><td> 1.1498989</td><td>-0.8674676</td><td>-0.1003781</td><td>-1.2168652</td><td> 0.431829 </td></tr>\n",
       "\t<tr><td> 0.5006747</td><td> 0.9197424</td><td>-0.5071733</td><td>-0.3860722</td><td> 1.1498989</td><td>-0.8674676</td><td>-0.1003781</td><td> 0.8197293</td><td>-2.309942 </td></tr>\n",
       "\t<tr><td>-5.3162931</td><td>-1.9197307</td><td> 0.6530271</td><td>-0.3860722</td><td>-0.8674676</td><td>-0.8674676</td><td> 9.9374292</td><td> 0.8197293</td><td> 0.431829 </td></tr>\n",
       "</tbody>\n",
       "</table>\n"
      ],
      "text/latex": [
       "\\begin{tabular}{r|lllllllll}\n",
       " Principal & terms & age & educationBechalor & educationcollege & educationHigh School or Below & educationMaster or Above & Weekend & Gender01\\\\\n",
       "\\hline\n",
       "\t  0.5006747 &  0.9197424 &  2.3104561 & -0.3860722 & -0.8674676 &  1.1498989 & -0.1003781 & -1.2168652 &  0.431829 \\\\\n",
       "\t  0.5006747 &  0.9197424 &  3.1391707 &  2.5837138 & -0.8674676 & -0.8674676 & -0.1003781 & -1.2168652 & -2.309942 \\\\\n",
       "\t  0.5006747 &  0.9197424 &  0.3215412 &  2.5837138 & -0.8674676 & -0.8674676 & -0.1003781 & -1.2168652 & -2.309942 \\\\\n",
       "\t  0.5006747 & -0.9320879 & -0.6729162 & -0.3860722 &  1.1498989 & -0.8674676 & -0.1003781 & -1.2168652 &  0.431829 \\\\\n",
       "\t  0.5006747 &  0.9197424 & -0.5071733 & -0.3860722 &  1.1498989 & -0.8674676 & -0.1003781 &  0.8197293 & -2.309942 \\\\\n",
       "\t -5.3162931 & -1.9197307 &  0.6530271 & -0.3860722 & -0.8674676 & -0.8674676 &  9.9374292 &  0.8197293 &  0.431829 \\\\\n",
       "\\end{tabular}\n"
      ],
      "text/markdown": [
       "\n",
       "Principal | terms | age | educationBechalor | educationcollege | educationHigh School or Below | educationMaster or Above | Weekend | Gender01 | \n",
       "|---|---|---|---|---|---|\n",
       "|  0.5006747 |  0.9197424 |  2.3104561 | -0.3860722 | -0.8674676 |  1.1498989 | -0.1003781 | -1.2168652 |  0.431829  | \n",
       "|  0.5006747 |  0.9197424 |  3.1391707 |  2.5837138 | -0.8674676 | -0.8674676 | -0.1003781 | -1.2168652 | -2.309942  | \n",
       "|  0.5006747 |  0.9197424 |  0.3215412 |  2.5837138 | -0.8674676 | -0.8674676 | -0.1003781 | -1.2168652 | -2.309942  | \n",
       "|  0.5006747 | -0.9320879 | -0.6729162 | -0.3860722 |  1.1498989 | -0.8674676 | -0.1003781 | -1.2168652 |  0.431829  | \n",
       "|  0.5006747 |  0.9197424 | -0.5071733 | -0.3860722 |  1.1498989 | -0.8674676 | -0.1003781 |  0.8197293 | -2.309942  | \n",
       "| -5.3162931 | -1.9197307 |  0.6530271 | -0.3860722 | -0.8674676 | -0.8674676 |  9.9374292 |  0.8197293 |  0.431829  | \n",
       "\n",
       "\n"
      ],
      "text/plain": [
       "  Principal  terms      age        educationBechalor educationcollege\n",
       "1  0.5006747  0.9197424  2.3104561 -0.3860722        -0.8674676      \n",
       "2  0.5006747  0.9197424  3.1391707  2.5837138        -0.8674676      \n",
       "3  0.5006747  0.9197424  0.3215412  2.5837138        -0.8674676      \n",
       "4  0.5006747 -0.9320879 -0.6729162 -0.3860722         1.1498989      \n",
       "5  0.5006747  0.9197424 -0.5071733 -0.3860722         1.1498989      \n",
       "6 -5.3162931 -1.9197307  0.6530271 -0.3860722        -0.8674676      \n",
       "  educationHigh School or Below educationMaster or Above Weekend    Gender01 \n",
       "1  1.1498989                    -0.1003781               -1.2168652  0.431829\n",
       "2 -0.8674676                    -0.1003781               -1.2168652 -2.309942\n",
       "3 -0.8674676                    -0.1003781               -1.2168652 -2.309942\n",
       "4 -0.8674676                    -0.1003781               -1.2168652  0.431829\n",
       "5 -0.8674676                    -0.1003781                0.8197293 -2.309942\n",
       "6 -0.8674676                     9.9374292                0.8197293  0.431829"
      ]
     },
     "metadata": {},
     "output_type": "display_data"
    }
   ],
   "source": [
    "Data[Colunms] <- scale(Data[Colunms])\n",
    "head(Data[Colunms])"
   ]
  },
  {
   "cell_type": "markdown",
   "metadata": {},
   "source": [
    "## Train Test Split  \n",
    "Lets split our data into train and test set."
   ]
  },
  {
   "cell_type": "code",
   "execution_count": 26,
   "metadata": {},
   "outputs": [
    {
     "data": {
      "text/html": [
       "<table>\n",
       "<thead><tr><th></th><th scope=col>Principal</th><th scope=col>terms</th><th scope=col>age</th><th scope=col>educationBechalor</th><th scope=col>educationcollege</th><th scope=col>educationHigh School or Below</th><th scope=col>educationMaster or Above</th><th scope=col>Weekend</th><th scope=col>Gender01</th><th scope=col>Class</th></tr></thead>\n",
       "<tbody>\n",
       "\t<tr><th scope=row>68</th><td>0.5006747 </td><td> 0.9197424</td><td> 0.9845129</td><td>-0.3860722</td><td>-0.8674676</td><td> 1.1498989</td><td>-0.1003781</td><td> 0.8197293</td><td>0.431829  </td><td>1         </td></tr>\n",
       "\t<tr><th scope=row>323</th><td>0.5006747 </td><td> 0.9197424</td><td> 0.9845129</td><td>-0.3860722</td><td> 1.1498989</td><td>-0.8674676</td><td>-0.1003781</td><td> 0.8197293</td><td>0.431829  </td><td>0         </td></tr>\n",
       "\t<tr><th scope=row>154</th><td>0.5006747 </td><td>-0.9320879</td><td>-0.1756875</td><td>-0.3860722</td><td> 1.1498989</td><td>-0.8674676</td><td>-0.1003781</td><td>-1.2168652</td><td>0.431829  </td><td>1         </td></tr>\n",
       "\t<tr><th scope=row>131</th><td>0.5006747 </td><td>-0.9320879</td><td>-0.8386591</td><td>-0.3860722</td><td>-0.8674676</td><td> 1.1498989</td><td>-0.1003781</td><td> 0.8197293</td><td>0.431829  </td><td>1         </td></tr>\n",
       "\t<tr><th scope=row>239</th><td>0.5006747 </td><td>-0.9320879</td><td>-0.3414304</td><td>-0.3860722</td><td> 1.1498989</td><td>-0.8674676</td><td>-0.1003781</td><td>-1.2168652</td><td>0.431829  </td><td>1         </td></tr>\n",
       "\t<tr><th scope=row>396</th><td>0.5006747 </td><td> 0.9197424</td><td>-1.0044020</td><td>-0.3860722</td><td>-0.8674676</td><td> 1.1498989</td><td>-0.1003781</td><td> 0.8197293</td><td>0.431829  </td><td>0         </td></tr>\n",
       "</tbody>\n",
       "</table>\n"
      ],
      "text/latex": [
       "\\begin{tabular}{r|llllllllll}\n",
       "  & Principal & terms & age & educationBechalor & educationcollege & educationHigh School or Below & educationMaster or Above & Weekend & Gender01 & Class\\\\\n",
       "\\hline\n",
       "\t68 & 0.5006747  &  0.9197424 &  0.9845129 & -0.3860722 & -0.8674676 &  1.1498989 & -0.1003781 &  0.8197293 & 0.431829   & 1         \\\\\n",
       "\t323 & 0.5006747  &  0.9197424 &  0.9845129 & -0.3860722 &  1.1498989 & -0.8674676 & -0.1003781 &  0.8197293 & 0.431829   & 0         \\\\\n",
       "\t154 & 0.5006747  & -0.9320879 & -0.1756875 & -0.3860722 &  1.1498989 & -0.8674676 & -0.1003781 & -1.2168652 & 0.431829   & 1         \\\\\n",
       "\t131 & 0.5006747  & -0.9320879 & -0.8386591 & -0.3860722 & -0.8674676 &  1.1498989 & -0.1003781 &  0.8197293 & 0.431829   & 1         \\\\\n",
       "\t239 & 0.5006747  & -0.9320879 & -0.3414304 & -0.3860722 &  1.1498989 & -0.8674676 & -0.1003781 & -1.2168652 & 0.431829   & 1         \\\\\n",
       "\t396 & 0.5006747  &  0.9197424 & -1.0044020 & -0.3860722 & -0.8674676 &  1.1498989 & -0.1003781 &  0.8197293 & 0.431829   & 0         \\\\\n",
       "\\end{tabular}\n"
      ],
      "text/markdown": [
       "\n",
       "| <!--/--> | Principal | terms | age | educationBechalor | educationcollege | educationHigh School or Below | educationMaster or Above | Weekend | Gender01 | Class | \n",
       "|---|---|---|---|---|---|\n",
       "| 68 | 0.5006747  |  0.9197424 |  0.9845129 | -0.3860722 | -0.8674676 |  1.1498989 | -0.1003781 |  0.8197293 | 0.431829   | 1          | \n",
       "| 323 | 0.5006747  |  0.9197424 |  0.9845129 | -0.3860722 |  1.1498989 | -0.8674676 | -0.1003781 |  0.8197293 | 0.431829   | 0          | \n",
       "| 154 | 0.5006747  | -0.9320879 | -0.1756875 | -0.3860722 |  1.1498989 | -0.8674676 | -0.1003781 | -1.2168652 | 0.431829   | 1          | \n",
       "| 131 | 0.5006747  | -0.9320879 | -0.8386591 | -0.3860722 | -0.8674676 |  1.1498989 | -0.1003781 |  0.8197293 | 0.431829   | 1          | \n",
       "| 239 | 0.5006747  | -0.9320879 | -0.3414304 | -0.3860722 |  1.1498989 | -0.8674676 | -0.1003781 | -1.2168652 | 0.431829   | 1          | \n",
       "| 396 | 0.5006747  |  0.9197424 | -1.0044020 | -0.3860722 | -0.8674676 |  1.1498989 | -0.1003781 |  0.8197293 | 0.431829   | 0          | \n",
       "\n",
       "\n"
      ],
      "text/plain": [
       "    Principal terms      age        educationBechalor educationcollege\n",
       "68  0.5006747  0.9197424  0.9845129 -0.3860722        -0.8674676      \n",
       "323 0.5006747  0.9197424  0.9845129 -0.3860722         1.1498989      \n",
       "154 0.5006747 -0.9320879 -0.1756875 -0.3860722         1.1498989      \n",
       "131 0.5006747 -0.9320879 -0.8386591 -0.3860722        -0.8674676      \n",
       "239 0.5006747 -0.9320879 -0.3414304 -0.3860722         1.1498989      \n",
       "396 0.5006747  0.9197424 -1.0044020 -0.3860722        -0.8674676      \n",
       "    educationHigh School or Below educationMaster or Above Weekend    Gender01\n",
       "68   1.1498989                    -0.1003781                0.8197293 0.431829\n",
       "323 -0.8674676                    -0.1003781                0.8197293 0.431829\n",
       "154 -0.8674676                    -0.1003781               -1.2168652 0.431829\n",
       "131  1.1498989                    -0.1003781                0.8197293 0.431829\n",
       "239 -0.8674676                    -0.1003781               -1.2168652 0.431829\n",
       "396  1.1498989                    -0.1003781                0.8197293 0.431829\n",
       "    Class\n",
       "68  1    \n",
       "323 0    \n",
       "154 1    \n",
       "131 1    \n",
       "239 1    \n",
       "396 0    "
      ]
     },
     "metadata": {},
     "output_type": "display_data"
    },
    {
     "data": {
      "text/html": [
       "<table>\n",
       "<thead><tr><th></th><th scope=col>Principal</th><th scope=col>terms</th><th scope=col>age</th><th scope=col>educationBechalor</th><th scope=col>educationcollege</th><th scope=col>educationHigh School or Below</th><th scope=col>educationMaster or Above</th><th scope=col>Weekend</th><th scope=col>Gender01</th><th scope=col>Class</th></tr></thead>\n",
       "<tbody>\n",
       "\t<tr><th scope=row>1</th><td>0.5006747 </td><td> 0.9197424</td><td> 2.3104561</td><td>-0.3860722</td><td>-0.8674676</td><td> 1.1498989</td><td>-0.1003781</td><td>-1.2168652</td><td> 0.431829 </td><td>1         </td></tr>\n",
       "\t<tr><th scope=row>2</th><td>0.5006747 </td><td> 0.9197424</td><td> 3.1391707</td><td> 2.5837138</td><td>-0.8674676</td><td>-0.8674676</td><td>-0.1003781</td><td>-1.2168652</td><td>-2.309942 </td><td>1         </td></tr>\n",
       "\t<tr><th scope=row>3</th><td>0.5006747 </td><td> 0.9197424</td><td> 0.3215412</td><td> 2.5837138</td><td>-0.8674676</td><td>-0.8674676</td><td>-0.1003781</td><td>-1.2168652</td><td>-2.309942 </td><td>1         </td></tr>\n",
       "\t<tr><th scope=row>4</th><td>0.5006747 </td><td>-0.9320879</td><td>-0.6729162</td><td>-0.3860722</td><td> 1.1498989</td><td>-0.8674676</td><td>-0.1003781</td><td>-1.2168652</td><td> 0.431829 </td><td>1         </td></tr>\n",
       "\t<tr><th scope=row>5</th><td>0.5006747 </td><td> 0.9197424</td><td>-0.5071733</td><td>-0.3860722</td><td> 1.1498989</td><td>-0.8674676</td><td>-0.1003781</td><td> 0.8197293</td><td>-2.309942 </td><td>1         </td></tr>\n",
       "\t<tr><th scope=row>7</th><td>0.5006747 </td><td> 0.9197424</td><td>-0.3414304</td><td>-0.3860722</td><td> 1.1498989</td><td>-0.8674676</td><td>-0.1003781</td><td> 0.8197293</td><td> 0.431829 </td><td>1         </td></tr>\n",
       "</tbody>\n",
       "</table>\n"
      ],
      "text/latex": [
       "\\begin{tabular}{r|llllllllll}\n",
       "  & Principal & terms & age & educationBechalor & educationcollege & educationHigh School or Below & educationMaster or Above & Weekend & Gender01 & Class\\\\\n",
       "\\hline\n",
       "\t1 & 0.5006747  &  0.9197424 &  2.3104561 & -0.3860722 & -0.8674676 &  1.1498989 & -0.1003781 & -1.2168652 &  0.431829  & 1         \\\\\n",
       "\t2 & 0.5006747  &  0.9197424 &  3.1391707 &  2.5837138 & -0.8674676 & -0.8674676 & -0.1003781 & -1.2168652 & -2.309942  & 1         \\\\\n",
       "\t3 & 0.5006747  &  0.9197424 &  0.3215412 &  2.5837138 & -0.8674676 & -0.8674676 & -0.1003781 & -1.2168652 & -2.309942  & 1         \\\\\n",
       "\t4 & 0.5006747  & -0.9320879 & -0.6729162 & -0.3860722 &  1.1498989 & -0.8674676 & -0.1003781 & -1.2168652 &  0.431829  & 1         \\\\\n",
       "\t5 & 0.5006747  &  0.9197424 & -0.5071733 & -0.3860722 &  1.1498989 & -0.8674676 & -0.1003781 &  0.8197293 & -2.309942  & 1         \\\\\n",
       "\t7 & 0.5006747  &  0.9197424 & -0.3414304 & -0.3860722 &  1.1498989 & -0.8674676 & -0.1003781 &  0.8197293 &  0.431829  & 1         \\\\\n",
       "\\end{tabular}\n"
      ],
      "text/markdown": [
       "\n",
       "| <!--/--> | Principal | terms | age | educationBechalor | educationcollege | educationHigh School or Below | educationMaster or Above | Weekend | Gender01 | Class | \n",
       "|---|---|---|---|---|---|\n",
       "| 1 | 0.5006747  |  0.9197424 |  2.3104561 | -0.3860722 | -0.8674676 |  1.1498989 | -0.1003781 | -1.2168652 |  0.431829  | 1          | \n",
       "| 2 | 0.5006747  |  0.9197424 |  3.1391707 |  2.5837138 | -0.8674676 | -0.8674676 | -0.1003781 | -1.2168652 | -2.309942  | 1          | \n",
       "| 3 | 0.5006747  |  0.9197424 |  0.3215412 |  2.5837138 | -0.8674676 | -0.8674676 | -0.1003781 | -1.2168652 | -2.309942  | 1          | \n",
       "| 4 | 0.5006747  | -0.9320879 | -0.6729162 | -0.3860722 |  1.1498989 | -0.8674676 | -0.1003781 | -1.2168652 |  0.431829  | 1          | \n",
       "| 5 | 0.5006747  |  0.9197424 | -0.5071733 | -0.3860722 |  1.1498989 | -0.8674676 | -0.1003781 |  0.8197293 | -2.309942  | 1          | \n",
       "| 7 | 0.5006747  |  0.9197424 | -0.3414304 | -0.3860722 |  1.1498989 | -0.8674676 | -0.1003781 |  0.8197293 |  0.431829  | 1          | \n",
       "\n",
       "\n"
      ],
      "text/plain": [
       "  Principal terms      age        educationBechalor educationcollege\n",
       "1 0.5006747  0.9197424  2.3104561 -0.3860722        -0.8674676      \n",
       "2 0.5006747  0.9197424  3.1391707  2.5837138        -0.8674676      \n",
       "3 0.5006747  0.9197424  0.3215412  2.5837138        -0.8674676      \n",
       "4 0.5006747 -0.9320879 -0.6729162 -0.3860722         1.1498989      \n",
       "5 0.5006747  0.9197424 -0.5071733 -0.3860722         1.1498989      \n",
       "7 0.5006747  0.9197424 -0.3414304 -0.3860722         1.1498989      \n",
       "  educationHigh School or Below educationMaster or Above Weekend    Gender01 \n",
       "1  1.1498989                    -0.1003781               -1.2168652  0.431829\n",
       "2 -0.8674676                    -0.1003781               -1.2168652 -2.309942\n",
       "3 -0.8674676                    -0.1003781               -1.2168652 -2.309942\n",
       "4 -0.8674676                    -0.1003781               -1.2168652  0.431829\n",
       "5 -0.8674676                    -0.1003781                0.8197293 -2.309942\n",
       "7 -0.8674676                    -0.1003781                0.8197293  0.431829\n",
       "  Class\n",
       "1 1    \n",
       "2 1    \n",
       "3 1    \n",
       "4 1    \n",
       "5 1    \n",
       "7 1    "
      ]
     },
     "metadata": {},
     "output_type": "display_data"
    }
   ],
   "source": [
    "set.seed(3)\n",
    "testindex <- sample.int(nrow(Data))[1:floor(0.1*nrow(Data))]\n",
    "TestData <- Data[testindex,];\n",
    "head(TestData)\n",
    "TrainData=Data[-testindex,]\n",
    "head(TrainData)"
   ]
  },
  {
   "cell_type": "markdown",
   "metadata": {},
   "source": [
    "## Logistic regression\n",
    "\n",
    "We now define our operations in order to properly run the Logistic Regression. Logistic regression is typically thought of as a single equation:\n",
    "\n",
    "$$\n",
    "ŷ =sigmoid(WX+b)\n",
    "$$\n",
    "\n",
    "However, for the sake of clarity, we can have it broken into its three main components: \n",
    "- a weight times features matrix multiplication operation, \n",
    "- a summation of the weighted features and a bias term, \n",
    "- and finally the application of a sigmoid function. \n",
    "\n",
    "As such, you will find these components defined as three separate operations below.\n",
    "\n"
   ]
  },
  {
   "cell_type": "code",
   "execution_count": 27,
   "metadata": {},
   "outputs": [
    {
     "data": {
      "text/plain": [
       "\n",
       "Call:\n",
       "glm(formula = Class ~ ., family = binomial(link = \"logit\"), data = TrainData, \n",
       "    control = list(maxit = 50))\n",
       "\n",
       "Deviance Residuals: \n",
       "    Min       1Q   Median       3Q      Max  \n",
       "-2.8869  -1.0086   0.2397   0.9093   1.3874  \n",
       "\n",
       "Coefficients: (1 not defined because of singularities)\n",
       "                                  Estimate Std. Error z value Pr(>|z|)    \n",
       "(Intercept)                       1.817044   8.791471   0.207    0.836    \n",
       "Principal                        -0.002635   0.192017  -0.014    0.989    \n",
       "terms                            -0.181165   0.168686  -1.074    0.283    \n",
       "age                               0.141015   0.144236   0.978    0.328    \n",
       "educationBechalor                -4.621262 295.935701  -0.016    0.988    \n",
       "educationcollege                 -6.803958 435.649967  -0.016    0.988    \n",
       "`educationHigh School or Below`  -7.081641 435.649967  -0.016    0.987    \n",
       "`educationMaster or Above`              NA         NA      NA       NA    \n",
       "Weekend                          -1.614659   0.260253  -6.204  5.5e-10 ***\n",
       "Gender01                         -0.211468   0.148328  -1.426    0.154    \n",
       "---\n",
       "Signif. codes:  0 '***' 0.001 '**' 0.01 '*' 0.05 '.' 0.1 ' ' 1\n",
       "\n",
       "(Dispersion parameter for binomial family taken to be 1)\n",
       "\n",
       "    Null deviance: 411.34  on 359  degrees of freedom\n",
       "Residual deviance: 316.39  on 351  degrees of freedom\n",
       "AIC: 334.39\n",
       "\n",
       "Number of Fisher Scoring iterations: 14\n"
      ]
     },
     "metadata": {},
     "output_type": "display_data"
    }
   ],
   "source": [
    "model <- glm(Class~.,family=binomial(link='logit'),data=TrainData, control = list(maxit = 50))\n",
    "summary(model)"
   ]
  },
  {
   "cell_type": "markdown",
   "metadata": {},
   "source": [
    "## Prediction\n",
    "Now we can predict using our test set:"
   ]
  },
  {
   "cell_type": "code",
   "execution_count": 28,
   "metadata": {},
   "outputs": [
    {
     "name": "stderr",
     "output_type": "stream",
     "text": [
      "Warning message in predict.lm(object, newdata, se.fit, scale = 1, type = ifelse(type == :\n",
      "\"prediction from a rank-deficient fit may be misleading\""
     ]
    },
    {
     "data": {
      "text/html": [
       "<dl class=dl-horizontal>\n",
       "\t<dt>68</dt>\n",
       "\t\t<dd>0</dd>\n",
       "\t<dt>323</dt>\n",
       "\t\t<dd>1</dd>\n",
       "\t<dt>154</dt>\n",
       "\t\t<dd>1</dd>\n",
       "\t<dt>131</dt>\n",
       "\t\t<dd>0</dd>\n",
       "\t<dt>239</dt>\n",
       "\t\t<dd>1</dd>\n",
       "</dl>\n"
      ],
      "text/latex": [
       "\\begin{description*}\n",
       "\\item[68] 0\n",
       "\\item[323] 1\n",
       "\\item[154] 1\n",
       "\\item[131] 0\n",
       "\\item[239] 1\n",
       "\\end{description*}\n"
      ],
      "text/markdown": [
       "68\n",
       ":   0323\n",
       ":   1154\n",
       ":   1131\n",
       ":   0239\n",
       ":   1\n",
       "\n"
      ],
      "text/plain": [
       " 68 323 154 131 239 \n",
       "  0   1   1   0   1 "
      ]
     },
     "metadata": {},
     "output_type": "display_data"
    }
   ],
   "source": [
    "fitted.results <- predict(model,newdata=TestData,type='response')\n",
    "yhat <- ifelse(fitted.results > 0.5,1,0)\n",
    "yhat[1:5]"
   ]
  },
  {
   "cell_type": "markdown",
   "metadata": {},
   "source": [
    "Lets get the actual labels "
   ]
  },
  {
   "cell_type": "code",
   "execution_count": 29,
   "metadata": {},
   "outputs": [
    {
     "data": {
      "text/html": [
       "<ol class=list-inline>\n",
       "\t<li>1</li>\n",
       "\t<li>0</li>\n",
       "\t<li>1</li>\n",
       "\t<li>1</li>\n",
       "</ol>\n"
      ],
      "text/latex": [
       "\\begin{enumerate*}\n",
       "\\item 1\n",
       "\\item 0\n",
       "\\item 1\n",
       "\\item 1\n",
       "\\end{enumerate*}\n"
      ],
      "text/markdown": [
       "1. 1\n",
       "2. 0\n",
       "3. 1\n",
       "4. 1\n",
       "\n",
       "\n"
      ],
      "text/plain": [
       "[1] 1 0 1 1"
      ]
     },
     "metadata": {},
     "output_type": "display_data"
    }
   ],
   "source": [
    "y <- TestData[,c('Class')]\n",
    "y[1:4]"
   ]
  },
  {
   "cell_type": "markdown",
   "metadata": {},
   "source": [
    "## Evaluation\n",
    "Lets calculate the accuracy "
   ]
  },
  {
   "cell_type": "code",
   "execution_count": 30,
   "metadata": {},
   "outputs": [
    {
     "data": {
      "text/html": [
       "0.7"
      ],
      "text/latex": [
       "0.7"
      ],
      "text/markdown": [
       "0.7"
      ],
      "text/plain": [
       "[1] 0.7"
      ]
     },
     "metadata": {},
     "output_type": "display_data"
    }
   ],
   "source": [
    "mean(yhat==y)"
   ]
  },
  {
   "cell_type": "markdown",
   "metadata": {},
   "source": [
    "We can build Confusion matrix ('PAIDOFF=1,COLLECTION=0) as well"
   ]
  },
  {
   "cell_type": "code",
   "execution_count": 31,
   "metadata": {},
   "outputs": [
    {
     "data": {
      "text/plain": [
       "        \n",
       "         0 true 1 true\n",
       "  0 pred      2      7\n",
       "  1 pred      5     26"
      ]
     },
     "metadata": {},
     "output_type": "display_data"
    }
   ],
   "source": [
    "ConfutationMatrix<- base::table(paste(as.character(yhat),\" pred\", sep =\"\"), paste(as.character(y),\" true\", sep =\"\"))\n",
    "ConfutationMatrix"
   ]
  },
  {
   "cell_type": "markdown",
   "metadata": {},
   "source": [
    "## Want to learn more?\n",
    "\n",
    "IBM SPSS Modeler is a comprehensive analytics platform that has many machine learning algorithms. It has been designed to bring predictive intelligence to decisions made by individuals, by groups, by systems – by your enterprise as a whole. A free trial is available through this course, available here: [SPSS Modeler for Mac users](https://cocl.us/ML0151EN_SPSSMod_mac) and [SPSS Modeler for Windows users](https://cocl.us/ML0151EN_SPSSMod_win)\n",
    "\n",
    "Also, you can use Data Science Experience to run these notebooks faster with bigger datasets. Data Science Experience is IBM's leading cloud solution for data scientists, built by data scientists. With Jupyter notebooks, RStudio, Apache Spark and popular libraries pre-packaged in the cloud, DSX enables data scientists to collaborate on their projects without having to install anything. Join the fast-growing community of DSX users today with a free account at [Data Science Experience](https://cocl.us/ML0151EN_DSX)"
   ]
  },
  {
   "cell_type": "markdown",
   "metadata": {},
   "source": [
    "### Thanks for completing this lesson!\n",
    "\n",
    "Notebook created by: <a href = \"https://ca.linkedin.com/in/saeedaghabozorgi\">Saeed Aghabozorgi</a>, <a href = \"https://www.linkedin.com/in/joseph-s-50398b136/\">Joseph Santarcangelo</a> "
   ]
  },
  {
   "cell_type": "markdown",
   "metadata": {
    "collapsed": true
   },
   "source": [
    "<hr>\n",
    "Copyright &copy; 2016 [Cognitive Class](https://cognitiveClass.ai/?utm_source=bducopyrightlink&utm_medium=dswb&utm_campaign=bdu). This notebook and its source code are released under the terms of the [MIT License](https://bigdatauniversity.com/mit-license/)."
   ]
  },
  {
   "cell_type": "code",
   "execution_count": null,
   "metadata": {
    "collapsed": true
   },
   "outputs": [],
   "source": []
  }
 ],
 "metadata": {
  "kernelspec": {
   "display_name": "R",
   "language": "R",
   "name": "ir"
  },
  "language_info": {
   "codemirror_mode": "r",
   "file_extension": ".r",
   "mimetype": "text/x-r-source",
   "name": "R",
   "pygments_lexer": "r",
   "version": "3.5.1"
  },
  "widgets": {
   "state": {},
   "version": "1.1.2"
  }
 },
 "nbformat": 4,
 "nbformat_minor": 1
}
