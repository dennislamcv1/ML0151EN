{
 "cells": [
  {
   "cell_type": "markdown",
   "metadata": {},
   "source": [
    "<a href=\"https://www.bigdatauniversity.com\"><img src = \"https://ibm.box.com/shared/static/cw2c7r3o20w9zn8gkecaeyjhgw3xdgbj.png\" width = 400, align = \"center\"></a>\n",
    "\n",
    "\n",
    "<h1 align=center><font size = 5>LINEAR REGRESSION</font></h1>"
   ]
  },
  {
   "cell_type": "markdown",
   "metadata": {},
   "source": [
    "The work of a data scientist goes way beyond performing basic tasks such as analyzing and visualizing data. Now, we will explore another exciting tool of data analysis: <strong>predictions and estimates</strong>. This lesson covers the use of a linear model to create predictions using our data.\n",
    "\n",
    "<div class=\"alert alert-block alert-info\" style=\"margin-top: 20px\">\n",
    "<font size = 4><strong>The following topics are covered: </strong></font>\n",
    "<br>\n",
    "- <p><a href=\"#1\">Getting to Know the Data</a></p>\n",
    "- <p><a href=\"#2\">Visualizing the Data</a></p>\n",
    "- <p><a href=\"#3\">Building a Linear Model</a></p>\n",
    "- <p><a href=\"#4\">Using the Model for Estimations/Predictions</a></p>\n",
    "<p></p>\n",
    "\n",
    "</div>\n",
    "<hr>\n"
   ]
  },
  {
   "cell_type": "markdown",
   "metadata": {
    "render": false
   },
   "source": [
    "<a id=\"1\"></a>\n",
    "# Getting to Know the Data\n",
    "\n",
    "Before we start working on a linear model, let's see what the data used in this notebook is about.\n",
    "\n",
    "<div class=\"alert alert-success alert-success\" style=\"margin-top: 20px\">\n",
    "<font size = 3><strong>Sanitation vs Life Expectancy</strong></font>\n",
    "<br>\n",
    "<br>\n",
    "This data corresponds to **the percentage of the population with access to improved sanitation facilities** and **life expectancy (in years)** in 2014 for 183 countries in the world. It was extracted from [The World Bank](http://data.worldbank.org/) website and pre-processed to eliminate NAs and other issues.\n",
    "\n",
    "<br><br>\n",
    "Here, we examine two variables: Access to Sanitation and Life Expectancy.\n",
    "\n",
    "<br><br>\n",
    "Access_to_Sanitation: Access to improved sanitation facilities refers to the percentage of the population using improved sanitation facilities. Improved sanitation facilities are likely to ensure hygienic separation of human excreta from human contact. They include flush/pour flush (to piped sewer system, septic tank, pit latrine), ventilated improved pit (VIP) latrine, pit latrine with slab, and composting toilet.\n",
    "\n",
    "<br><br>\n",
    "Life_Expectancy: Life expectancy at birth indicates the number of years a newborn infant would live if prevailing patterns of mortality at the time of its birth were to stay the same throughout its life.\n",
    "\n",
    "</div>\n",
    "\n",
    "### Importing the Dataset\n",
    "\n",
    "Run the code cell below to load the data into the dataframe **`my_data`**."
   ]
  },
  {
   "cell_type": "code",
   "execution_count": 1,
   "metadata": {},
   "outputs": [],
   "source": [
    "my_data <- read.csv(\"Life Expectancy and Sanitation.csv\")"
   ]
  },
  {
   "cell_type": "markdown",
   "metadata": {},
   "source": [
    "### Explore the Data"
   ]
  },
  {
   "cell_type": "markdown",
   "metadata": {},
   "source": [
    "Let's run the cells below just to see what the dataframe looks like and check its structure."
   ]
  },
  {
   "cell_type": "code",
   "execution_count": 2,
   "metadata": {},
   "outputs": [
    {
     "data": {
      "text/html": [
       "<table>\n",
       "<thead><tr><th scope=col>Country</th><th scope=col>Access_to_Sanitation</th><th scope=col>Life_Expectancy</th></tr></thead>\n",
       "<tbody>\n",
       "\t<tr><td>Afghanistan</td><td>31.8       </td><td>60.37446   </td></tr>\n",
       "\t<tr><td>Albania    </td><td>93.2       </td><td>77.83046   </td></tr>\n",
       "\t<tr><td>Algeria    </td><td>87.4       </td><td>74.80810   </td></tr>\n",
       "\t<tr><td>Angola     </td><td>51.1       </td><td>52.26688   </td></tr>\n",
       "\t<tr><td>Argentina  </td><td>96.1       </td><td>76.15861   </td></tr>\n",
       "\t<tr><td>Armenia    </td><td>89.5       </td><td>74.67571   </td></tr>\n",
       "</tbody>\n",
       "</table>\n"
      ],
      "text/latex": [
       "\\begin{tabular}{r|lll}\n",
       " Country & Access\\_to\\_Sanitation & Life\\_Expectancy\\\\\n",
       "\\hline\n",
       "\t Afghanistan & 31.8        & 60.37446   \\\\\n",
       "\t Albania     & 93.2        & 77.83046   \\\\\n",
       "\t Algeria     & 87.4        & 74.80810   \\\\\n",
       "\t Angola      & 51.1        & 52.26688   \\\\\n",
       "\t Argentina   & 96.1        & 76.15861   \\\\\n",
       "\t Armenia     & 89.5        & 74.67571   \\\\\n",
       "\\end{tabular}\n"
      ],
      "text/markdown": [
       "\n",
       "Country | Access_to_Sanitation | Life_Expectancy | \n",
       "|---|---|---|---|---|---|\n",
       "| Afghanistan | 31.8        | 60.37446    | \n",
       "| Albania     | 93.2        | 77.83046    | \n",
       "| Algeria     | 87.4        | 74.80810    | \n",
       "| Angola      | 51.1        | 52.26688    | \n",
       "| Argentina   | 96.1        | 76.15861    | \n",
       "| Armenia     | 89.5        | 74.67571    | \n",
       "\n",
       "\n"
      ],
      "text/plain": [
       "  Country     Access_to_Sanitation Life_Expectancy\n",
       "1 Afghanistan 31.8                 60.37446       \n",
       "2 Albania     93.2                 77.83046       \n",
       "3 Algeria     87.4                 74.80810       \n",
       "4 Angola      51.1                 52.26688       \n",
       "5 Argentina   96.1                 76.15861       \n",
       "6 Armenia     89.5                 74.67571       "
      ]
     },
     "metadata": {},
     "output_type": "display_data"
    }
   ],
   "source": [
    "head(my_data)"
   ]
  },
  {
   "cell_type": "code",
   "execution_count": 3,
   "metadata": {
    "scrolled": true
   },
   "outputs": [
    {
     "name": "stdout",
     "output_type": "stream",
     "text": [
      "'data.frame':\t183 obs. of  3 variables:\n",
      " $ Country             : Factor w/ 183 levels \"Afghanistan\",..: 1 2 3 4 5 6 7 8 9 10 ...\n",
      " $ Access_to_Sanitation: num  31.8 93.2 87.4 51.1 96.1 89.5 97.7 100 100 87.9 ...\n",
      " $ Life_Expectancy     : num  60.4 77.8 74.8 52.3 76.2 ...\n"
     ]
    }
   ],
   "source": [
    "str(my_data)"
   ]
  },
  {
   "cell_type": "markdown",
   "metadata": {},
   "source": [
    "Just like we mentioned before, it looks like the dataframe contains 183 observations of 3 variables: **Country Name**, **Access to Sanitation Facilities** (in % of population) and **Life Expectancy** (in years)."
   ]
  },
  {
   "cell_type": "markdown",
   "metadata": {},
   "source": [
    "<a id=\"2\"></a>\n",
    "# Visualizing the Data\n",
    "\n",
    "Now it's time to visualize our dataset. Do you think we'll be able to identify any trends?\n",
    "\n",
    "To begin, let's make a simple scatter plot of Access to Sanitation Facilities and Life Expectancy."
   ]
  },
  {
   "cell_type": "code",
   "execution_count": 4,
   "metadata": {
    "scrolled": false
   },
   "outputs": [
    {
     "data": {
      "image/png": "[encoded data removed]",
      "text/plain": [
       "plot without title"
      ]
     },
     "metadata": {},
     "output_type": "display_data"
    }
   ],
   "source": [
    "plot(my_data$Access_to_Sanitation, my_data$Life_Expectancy, xlab = \"Access to Sanitation (% of population)\",\n",
    "     ylab = \"Life Expectancy (years)\", col = \"blue\", lwd = 2)"
   ]
  },
  {
   "cell_type": "markdown",
   "metadata": {},
   "source": [
    "What if we compare the values of each country for these two variables?\n",
    "\n",
    "Here, we'll just make a simple bar plot to see what are the **bottom 20 countries** for Sanitation and Life Expectancy, respectively. \n",
    "\n",
    "You can use the function order() to sort the data. "
   ]
  },
  {
   "cell_type": "code",
   "execution_count": 5,
   "metadata": {
    "scrolled": false
   },
   "outputs": [
    {
     "data": {
      "image/png": "[encoded data removed]",
      "text/plain": [
       "plot without title"
      ]
     },
     "metadata": {},
     "output_type": "display_data"
    }
   ],
   "source": [
    "# Order rows increasingly by Sanitation\n",
    "my_data <- my_data[order(my_data[\"Access_to_Sanitation\"]),]\n",
    "\n",
    "barplot(my_data[c(1:20),\"Access_to_Sanitation\"],\n",
    "        names.arg = as.vector(my_data[c(1:20),\"Country\"]),\n",
    "        col = \"red\", las = 2,\n",
    "       ylab = \"Access to Sanintation (% of Population)\")"
   ]
  },
  {
   "cell_type": "code",
   "execution_count": 6,
   "metadata": {},
   "outputs": [
    {
     "data": {
      "image/png": "[encoded data removed]",
      "text/plain": [
       "plot without title"
      ]
     },
     "metadata": {},
     "output_type": "display_data"
    }
   ],
   "source": [
    "# Order rows increasingly by Life Expectancy\n",
    "my_data <- my_data[order(my_data[\"Life_Expectancy\"]),]\n",
    "\n",
    "barplot(my_data[c(1:20),\"Life_Expectancy\"],\n",
    "        names.arg = as.vector(my_data[c(1:20),\"Country\"]),\n",
    "        col = \"blue\", las = 2,\n",
    "       ylab = \"Life Expectancy (years)\")"
   ]
  },
  {
   "cell_type": "markdown",
   "metadata": {},
   "source": [
    "-------"
   ]
  },
  {
   "cell_type": "markdown",
   "metadata": {},
   "source": [
    "<a id=\"3\"></a>\n",
    "# Building a Linear Model\n",
    "\n",
    "Looking at the plots, were you able to identify any trends? Is there a relationship between Access to Sanitation and Life Expectancy? If so, which is the independent (explanatory) variable and which is the dependent (outcome) variable?\n",
    "\n",
    "Since access to sanitation is likely to affect one's life expectancy, in our linear model, Access to Sanitation is our independent variable and Life Expectancy is our dependent variable. "
   ]
  },
  {
   "cell_type": "markdown",
   "metadata": {},
   "source": [
    "Let's learn how we can run a linear regression model in R!\n",
    "\n",
    "<div class=\"alert alert-success alert-success\" style=\"margin-top: 20px\">\n",
    "<font size = 3><strong>To run linear regression in R we use the function <i>lm()</i>:</strong></font><br>\n",
    "<br>\n",
    "The first argument of <strong>lm()</strong> has the form <i>\"response <strong>~</strong> term\"</i>. This is what we call <strong>formula</strong>. <br>\n",
    "<br>\n",
    "The first element of the formula is the <i><strong>response (dependent variable)</strong></i>, and it should have numeric values (continuous variable). As we want to use this model to measure the relationship between Access to Sanitation and Life Expectancy, we should use the dependent variable <i>Life_Expectancy</i> column as <i>response</i>. <br>\n",
    "<br>\n",
    "The second element, after the \"~\", is called <i><strong>term (independent variable)</strong></i> corresponding to the independent variable. It is a series of terms specifying a linear predictor for <i>response</i>. In this case, we use the column <i>Access_to_Sanitation</i>. <br>\n",
    "<br>\n",
    "**What does the linear model do?** <br>\n",
    "<br>\n",
    "It will try to find a line that best fits the data, according to:\n",
    "$$ Y = aX + b$$\n",
    "<br>\n",
    "Where **Y** is the **response**, **X** is the **term**, **a** is coefficient that defines the slope and **b** is the intercept with the Y axis.\n",
    "</div>"
   ]
  },
  {
   "cell_type": "markdown",
   "metadata": {},
   "source": [
    "### Creating the Model\n",
    "\n",
    "Note that before using the function **`lm()`** the column that will be used as `term` must be converted to a vector."
   ]
  },
  {
   "cell_type": "code",
   "execution_count": 7,
   "metadata": {},
   "outputs": [
    {
     "data": {
      "text/plain": [
       "\n",
       "Call:\n",
       "lm(formula = Life_Expectancy ~ sanitation, data = my_data)\n",
       "\n",
       "Residuals:\n",
       "     Min       1Q   Median       3Q      Max \n",
       "-18.4453  -2.4513   0.3395   3.5113   8.7049 \n",
       "\n",
       "Coefficients:\n",
       "            Estimate Std. Error t value Pr(>|t|)    \n",
       "(Intercept) 53.51021    0.88544   60.43   <2e-16 ***\n",
       "sanitation   0.24122    0.01129   21.37   <2e-16 ***\n",
       "---\n",
       "Signif. codes:  0 '***' 0.001 '**' 0.01 '*' 0.05 '.' 0.1 ' ' 1\n",
       "\n",
       "Residual standard error: 4.488 on 181 degrees of freedom\n",
       "Multiple R-squared:  0.7162,\tAdjusted R-squared:  0.7147 \n",
       "F-statistic: 456.9 on 1 and 181 DF,  p-value: < 2.2e-16\n"
      ]
     },
     "metadata": {},
     "output_type": "display_data"
    },
    {
     "data": {
      "text/plain": [
       "\n",
       "Call:\n",
       "lm(formula = Life_Expectancy ~ sanitation, data = my_data)\n",
       "\n",
       "Coefficients:\n",
       "(Intercept)   sanitation  \n",
       "    53.5102       0.2412  \n"
      ]
     },
     "metadata": {},
     "output_type": "display_data"
    }
   ],
   "source": [
    "# Create a vector containing the sanitation data\n",
    "sanitation <- as.vector(my_data$Access_to_Sanitation)\n",
    "\n",
    "# Build a linear model\n",
    "model <- lm(Life_Expectancy ~ sanitation, data=my_data)\n",
    "\n",
    "# Get some information about the model\n",
    "summary(model)\n",
    "model"
   ]
  },
  {
   "cell_type": "markdown",
   "metadata": {},
   "source": [
    "Based on the output, our model was successfully created! Here, you can check the coefficients, the residual error, and some other information as well.\n",
    "\n",
    "<div class=\"alert alert-block alert-info\" style=\"margin-top: 20px\">\n",
    "<font size = 4><strong>Interpreting the model: </strong></font>\n",
    "<br><br>\n",
    "Take a closer look at **\"Residuals\"**, in the output above. Residual is the difference between the actual data value and the value predicted by the linear model. It is calculated for every data sample - in our case, 183 countries! As it wouldn't be convenient to visualize 183 residuals, what you see above is a summary containing the **Min**, **1Q**, **Median**, **3Q** and **Max** values.\n",
    "<br><br>\n",
    "Now look at the **residual standard error**: it's a measure of the model’s accuracy. In our model, the error is 4.488 on 181 degrees of freedom, which is a very good result. **“Degrees of freedom”** are defined as the difference between the number of observations in the sample and the number of variables in the model (183 countries minus 2 variables).\n",
    "<br><br>\n",
    "We also have the **\"Multiple R-squared”**. This is a statistical measure of how closely the regression line fits the data. \n",
    "Numerically, it’s the percentage of the response (dependent) variable’s variation that is explained by the independent variables. Generally, good models have high values. However, a high R-squared value alone cannot justify the model.\n",
    "<br><br>\n",
    "The last item in the output is the **p-value**, which tests the fit of the null hypothesis to our data. The null hypothesis assumes that there is no relationship between the independent and dependent variables in the model. The p-value represents the probability you will obtain a result equal to or more extreme than what was actually observed, if the null hypothesis is true. Generally, if the p-value is very low (below 0.05), it meets threshold to reject the null hypothesis. \n",
    "\n",
    "<br><br>\n",
    "Here, the p-value is less than 0.05. We conclude that there is a significant relationship between Access to Sanitation and Life Expectancy. \n",
    "<br>\n",
    "</div>"
   ]
  },
  {
   "cell_type": "markdown",
   "metadata": {},
   "source": [
    "### Plotting the Model\n",
    "\n",
    "In the code cell below we'll make the same scatter plot we made before, fitting a line to visualize the results of our model."
   ]
  },
  {
   "cell_type": "code",
   "execution_count": 8,
   "metadata": {},
   "outputs": [
    {
     "data": {
      "image/png": "[encoded data removed]",
      "text/plain": [
       "plot without title"
      ]
     },
     "metadata": {},
     "output_type": "display_data"
    }
   ],
   "source": [
    "{\n",
    "# Plot the previous scatter plot\n",
    "plot(my_data$Access_to_Sanitation, my_data$Life_Expectancy, xlab = \"Access to Sanitation (% of Population)\",\n",
    "     ylab = \"Life Expectancy (years)\", col = \"blue\", lwd = 2)\n",
    "\n",
    "# Fit a line in the plot\n",
    "abline(model, col = \"red\")\n",
    "}"
   ]
  },
  {
   "cell_type": "markdown",
   "metadata": {},
   "source": [
    "-------"
   ]
  },
  {
   "cell_type": "markdown",
   "metadata": {},
   "source": [
    "<a id=\"4\"></a>\n",
    "# Using the Model for Estimations/Predictions\n",
    "\n",
    "Now that we have a model, we can estimate the Life Expectancy for a given value of Access to Sanitation Facilities that isn't in the dataset. For this, we can use the function **`predict()`** and our linear model.\n",
    "\n",
    "It is interesting to know that `predict` has a way of calculating the confidence in its own prediction. This means that you can get a 95% confidence interval for the predicted point."
   ]
  },
  {
   "cell_type": "code",
   "execution_count": 9,
   "metadata": {},
   "outputs": [
    {
     "data": {
      "text/plain": [
       "   Min. 1st Qu.  Median    Mean 3rd Qu.    Max. \n",
       "   6.70   47.70   87.40   72.74   97.35  100.00 "
      ]
     },
     "metadata": {},
     "output_type": "display_data"
    }
   ],
   "source": [
    "# Tips: using point that fall out of the term interval in the training dataset may lead to errors of prediction that are much larger than expected. \n",
    "summary(my_data$Access_to_Sanitation)"
   ]
  },
  {
   "cell_type": "code",
   "execution_count": 10,
   "metadata": {
    "scrolled": true
   },
   "outputs": [
    {
     "data": {
      "text/html": [
       "<table>\n",
       "<thead><tr><th></th><th scope=col>fit</th><th scope=col>lwr</th><th scope=col>upr</th></tr></thead>\n",
       "<tbody>\n",
       "\t<tr><th scope=row>1</th><td>55.92236</td><td>46.93336</td><td>64.91136</td></tr>\n",
       "\t<tr><th scope=row>2</th><td>63.64124</td><td>54.73514</td><td>72.54735</td></tr>\n",
       "</tbody>\n",
       "</table>\n"
      ],
      "text/latex": [
       "\\begin{tabular}{r|lll}\n",
       "  & fit & lwr & upr\\\\\n",
       "\\hline\n",
       "\t1 & 55.92236 & 46.93336 & 64.91136\\\\\n",
       "\t2 & 63.64124 & 54.73514 & 72.54735\\\\\n",
       "\\end{tabular}\n"
      ],
      "text/markdown": [
       "\n",
       "| <!--/--> | fit | lwr | upr | \n",
       "|---|---|\n",
       "| 1 | 55.92236 | 46.93336 | 64.91136 | \n",
       "| 2 | 63.64124 | 54.73514 | 72.54735 | \n",
       "\n",
       "\n"
      ],
      "text/plain": [
       "  fit      lwr      upr     \n",
       "1 55.92236 46.93336 64.91136\n",
       "2 63.64124 54.73514 72.54735"
      ]
     },
     "metadata": {},
     "output_type": "display_data"
    }
   ],
   "source": [
    "# Create points to predict, use the point that fall between 6.70 and 100.00\n",
    "pointsToPredict <- data.frame(sanitation = c(10, 42))\n",
    "\n",
    "#Use predict() to compute our predictions!\n",
    "predictionWithInterval <- predict(model, pointsToPredict, interval = 'prediction')\n",
    "predictionWithInterval"
   ]
  },
  {
   "cell_type": "markdown",
   "metadata": {},
   "source": [
    "#### Let's add our estimations to the previous plot!\n",
    "\n",
    "In the output above you can see that `fit` is the prediction value, as we have already seen before. The upper and lower bounds for the interval are `lwr` and `upr`.\n",
    "\n",
    "Let's plot this:"
   ]
  },
  {
   "cell_type": "code",
   "execution_count": 11,
   "metadata": {},
   "outputs": [
    {
     "data": {
      "image/png": "[encoded data removed]",
      "text/plain": [
       "plot without title"
      ]
     },
     "metadata": {},
     "output_type": "display_data"
    }
   ],
   "source": [
    "{\n",
    "# Plot the previous scatter plot\n",
    "plot(my_data$Access_to_Sanitation, my_data$Life_Expectancy, xlab = \"Access to Sanitation (% of Population)\",\n",
    "     ylab = \"Life Expectancy (years)\", col = \"blue\", ylim=c(45, 85), lwd = 2)\n",
    "    \n",
    "# Add the new predicted points!\n",
    "points(pointsToPredict$sanitation, predictionWithInterval[,\"fit\"], col = \"red\", lwd = 4)\n",
    "points(pointsToPredict$sanitation, predictionWithInterval[,\"lwr\"], col = \"firebrick4\", lwd = 4)\n",
    "points(pointsToPredict$sanitation, predictionWithInterval[,\"upr\"], col = \"firebrick4\", lwd = 4)\n",
    "    \n",
    "legend(\"topleft\",legend = c(\"Dataset Points\", \"Prediction Points\"), fill = c(\"blue\",\"red\"), bty = \"n\")\n",
    "    \n",
    "# Fit a line in the plot\n",
    "abline(model, col = \"red\")\n",
    "}"
   ]
  },
  {
   "cell_type": "markdown",
   "metadata": {},
   "source": [
    "## Want to learn more?\n",
    "\n",
    "IBM SPSS Modeler is a comprehensive analytics platform that has many machine learning algorithms. It has been designed to bring predictive intelligence to decisions made by individuals, by groups, by systems – by your enterprise as a whole. A free trial is available through this course, available here: [SPSS Modeler for Mac users](https://cocl.us/ML0151EN_SPSSMod_mac) and [SPSS Modeler for Windows users](https://cocl.us/ML0151EN_SPSSMod_win)\n",
    "\n",
    "Also, you can use Data Science Experience to run these notebooks faster with bigger datasets. Data Science Experience is IBM's leading cloud solution for data scientists, built by data scientists. With Jupyter notebooks, RStudio, Apache Spark and popular libraries pre-packaged in the cloud, DSX enables data scientists to collaborate on their projects without having to install anything. Join the fast-growing community of DSX users today with a free account at [Data Science Experience](https://cocl.us/ML0151EN_DSX)"
   ]
  },
  {
   "cell_type": "markdown",
   "metadata": {},
   "source": [
    "### Thanks for completing this lesson!\n",
    "\n",
    "Notebook created by: <a href = \"https://br.linkedin.com/in/victor-barros-2446a390\">Victor Barros Costa</a> , <a href = \"https://ca.linkedin.com/in/saeedaghabozorgi\">Saeed Aghabozorgi</a>"
   ]
  },
  {
   "cell_type": "markdown",
   "metadata": {},
   "source": [
    "<hr>\n",
    "Copyright &copy; 2017 [IBM Cognitive Class](https://cognitiveclass.ai/?utm_source=ML0151&utm_medium=lab&utm_campaign=cclab). This notebook and its source code are released under the terms of the [MIT License](https://cognitiveclass.ai/mit-license/)."
   ]
  },
  {
   "cell_type": "code",
   "execution_count": null,
   "metadata": {
    "collapsed": true
   },
   "outputs": [],
   "source": []
  }
 ],
 "metadata": {
  "anaconda-cloud": {},
  "celltoolbar": "Dashboard",
  "kernelspec": {
   "display_name": "R",
   "language": "R",
   "name": "ir"
  },
  "language_info": {
   "codemirror_mode": "r",
   "file_extension": ".r",
   "mimetype": "text/x-r-source",
   "name": "R",
   "pygments_lexer": "r",
   "version": "3.5.1"
  }
 },
 "nbformat": 4,
 "nbformat_minor": 1
}
